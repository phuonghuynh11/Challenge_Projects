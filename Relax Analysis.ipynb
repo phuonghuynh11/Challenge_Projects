{
 "cells": [
  {
   "cell_type": "markdown",
   "metadata": {},
   "source": [
    "# Relax Inc\n",
    "\n",
    "##### Problem Statement:\n",
    "Defining an \"adopted user\" as a user who has logged into the product on  three separate days in at least one seven-day period, identify which factors predict future user adoption.\n"
   ]
  },
  {
   "cell_type": "markdown",
   "metadata": {},
   "source": [
    "### 1. Sourcing and Loading"
   ]
  },
  {
   "cell_type": "code",
   "execution_count": 1,
   "metadata": {},
   "outputs": [],
   "source": [
    "import pandas as pd\n",
    "import numpy as np\n",
    "import matplotlib.pyplot as plt\n",
    "import seaborn as sns"
   ]
  },
  {
   "cell_type": "code",
   "execution_count": 2,
   "metadata": {},
   "outputs": [
    {
     "data": {
      "text/html": [
       "<div>\n",
       "<style scoped>\n",
       "    .dataframe tbody tr th:only-of-type {\n",
       "        vertical-align: middle;\n",
       "    }\n",
       "\n",
       "    .dataframe tbody tr th {\n",
       "        vertical-align: top;\n",
       "    }\n",
       "\n",
       "    .dataframe thead th {\n",
       "        text-align: right;\n",
       "    }\n",
       "</style>\n",
       "<table border=\"1\" class=\"dataframe\">\n",
       "  <thead>\n",
       "    <tr style=\"text-align: right;\">\n",
       "      <th></th>\n",
       "      <th>user_id</th>\n",
       "      <th>creation_time</th>\n",
       "      <th>name</th>\n",
       "      <th>email</th>\n",
       "      <th>creation_source</th>\n",
       "      <th>last_session_creation_time</th>\n",
       "      <th>opted_in_to_mailing_list</th>\n",
       "      <th>enabled_for_marketing_drip</th>\n",
       "      <th>org_id</th>\n",
       "      <th>invited_by_user_id</th>\n",
       "    </tr>\n",
       "  </thead>\n",
       "  <tbody>\n",
       "    <tr>\n",
       "      <th>0</th>\n",
       "      <td>1</td>\n",
       "      <td>2014-04-22 03:53:30</td>\n",
       "      <td>Clausen August</td>\n",
       "      <td>AugustCClausen@yahoo.com</td>\n",
       "      <td>GUEST_INVITE</td>\n",
       "      <td>2014-04-22 03:53:30</td>\n",
       "      <td>1</td>\n",
       "      <td>0</td>\n",
       "      <td>11</td>\n",
       "      <td>10803.0</td>\n",
       "    </tr>\n",
       "    <tr>\n",
       "      <th>1</th>\n",
       "      <td>2</td>\n",
       "      <td>2013-11-15 03:45:04</td>\n",
       "      <td>Poole Matthew</td>\n",
       "      <td>MatthewPoole@gustr.com</td>\n",
       "      <td>ORG_INVITE</td>\n",
       "      <td>2014-03-31 03:45:04</td>\n",
       "      <td>0</td>\n",
       "      <td>0</td>\n",
       "      <td>1</td>\n",
       "      <td>316.0</td>\n",
       "    </tr>\n",
       "    <tr>\n",
       "      <th>2</th>\n",
       "      <td>3</td>\n",
       "      <td>2013-03-19 23:14:52</td>\n",
       "      <td>Bottrill Mitchell</td>\n",
       "      <td>MitchellBottrill@gustr.com</td>\n",
       "      <td>ORG_INVITE</td>\n",
       "      <td>2013-03-19 23:14:52</td>\n",
       "      <td>0</td>\n",
       "      <td>0</td>\n",
       "      <td>94</td>\n",
       "      <td>1525.0</td>\n",
       "    </tr>\n",
       "    <tr>\n",
       "      <th>3</th>\n",
       "      <td>4</td>\n",
       "      <td>2013-05-21 08:09:28</td>\n",
       "      <td>Clausen Nicklas</td>\n",
       "      <td>NicklasSClausen@yahoo.com</td>\n",
       "      <td>GUEST_INVITE</td>\n",
       "      <td>2013-05-22 08:09:28</td>\n",
       "      <td>0</td>\n",
       "      <td>0</td>\n",
       "      <td>1</td>\n",
       "      <td>5151.0</td>\n",
       "    </tr>\n",
       "    <tr>\n",
       "      <th>4</th>\n",
       "      <td>5</td>\n",
       "      <td>2013-01-17 10:14:20</td>\n",
       "      <td>Raw Grace</td>\n",
       "      <td>GraceRaw@yahoo.com</td>\n",
       "      <td>GUEST_INVITE</td>\n",
       "      <td>2013-01-22 10:14:20</td>\n",
       "      <td>0</td>\n",
       "      <td>0</td>\n",
       "      <td>193</td>\n",
       "      <td>5240.0</td>\n",
       "    </tr>\n",
       "  </tbody>\n",
       "</table>\n",
       "</div>"
      ],
      "text/plain": [
       "   user_id       creation_time               name                       email  \\\n",
       "0        1 2014-04-22 03:53:30     Clausen August    AugustCClausen@yahoo.com   \n",
       "1        2 2013-11-15 03:45:04      Poole Matthew      MatthewPoole@gustr.com   \n",
       "2        3 2013-03-19 23:14:52  Bottrill Mitchell  MitchellBottrill@gustr.com   \n",
       "3        4 2013-05-21 08:09:28    Clausen Nicklas   NicklasSClausen@yahoo.com   \n",
       "4        5 2013-01-17 10:14:20          Raw Grace          GraceRaw@yahoo.com   \n",
       "\n",
       "  creation_source last_session_creation_time  opted_in_to_mailing_list  \\\n",
       "0    GUEST_INVITE        2014-04-22 03:53:30                         1   \n",
       "1      ORG_INVITE        2014-03-31 03:45:04                         0   \n",
       "2      ORG_INVITE        2013-03-19 23:14:52                         0   \n",
       "3    GUEST_INVITE        2013-05-22 08:09:28                         0   \n",
       "4    GUEST_INVITE        2013-01-22 10:14:20                         0   \n",
       "\n",
       "   enabled_for_marketing_drip  org_id  invited_by_user_id  \n",
       "0                           0      11             10803.0  \n",
       "1                           0       1               316.0  \n",
       "2                           0      94              1525.0  \n",
       "3                           0       1              5151.0  \n",
       "4                           0     193              5240.0  "
      ]
     },
     "execution_count": 2,
     "metadata": {},
     "output_type": "execute_result"
    }
   ],
   "source": [
    "users = pd.read_csv('takehome_users.csv', parse_dates=['creation_time'])\n",
    "users['last_session_creation_time'] = pd.to_datetime(users['last_session_creation_time'],unit='s')\n",
    "\n",
    "### change column name to user_id for better understanding and to match the other data\n",
    "users = users.rename(columns={'object_id':'user_id'})\n",
    "\n",
    "users.head()"
   ]
  },
  {
   "cell_type": "code",
   "execution_count": 3,
   "metadata": {
    "scrolled": true
   },
   "outputs": [
    {
     "name": "stdout",
     "output_type": "stream",
     "text": [
      "<class 'pandas.core.frame.DataFrame'>\n",
      "RangeIndex: 12000 entries, 0 to 11999\n",
      "Data columns (total 10 columns):\n",
      " #   Column                      Non-Null Count  Dtype         \n",
      "---  ------                      --------------  -----         \n",
      " 0   user_id                     12000 non-null  int64         \n",
      " 1   creation_time               12000 non-null  datetime64[ns]\n",
      " 2   name                        12000 non-null  object        \n",
      " 3   email                       12000 non-null  object        \n",
      " 4   creation_source             12000 non-null  object        \n",
      " 5   last_session_creation_time  8823 non-null   datetime64[ns]\n",
      " 6   opted_in_to_mailing_list    12000 non-null  int64         \n",
      " 7   enabled_for_marketing_drip  12000 non-null  int64         \n",
      " 8   org_id                      12000 non-null  int64         \n",
      " 9   invited_by_user_id          6417 non-null   float64       \n",
      "dtypes: datetime64[ns](2), float64(1), int64(4), object(3)\n",
      "memory usage: 937.6+ KB\n"
     ]
    }
   ],
   "source": [
    "users.info()"
   ]
  },
  {
   "cell_type": "markdown",
   "metadata": {},
   "source": [
    "### Usage Summary\n",
    "I need to create the target from these data"
   ]
  },
  {
   "cell_type": "code",
   "execution_count": 4,
   "metadata": {},
   "outputs": [
    {
     "data": {
      "text/html": [
       "<div>\n",
       "<style scoped>\n",
       "    .dataframe tbody tr th:only-of-type {\n",
       "        vertical-align: middle;\n",
       "    }\n",
       "\n",
       "    .dataframe tbody tr th {\n",
       "        vertical-align: top;\n",
       "    }\n",
       "\n",
       "    .dataframe thead th {\n",
       "        text-align: right;\n",
       "    }\n",
       "</style>\n",
       "<table border=\"1\" class=\"dataframe\">\n",
       "  <thead>\n",
       "    <tr style=\"text-align: right;\">\n",
       "      <th></th>\n",
       "      <th>time_stamp</th>\n",
       "      <th>user_id</th>\n",
       "      <th>visited</th>\n",
       "    </tr>\n",
       "  </thead>\n",
       "  <tbody>\n",
       "    <tr>\n",
       "      <th>0</th>\n",
       "      <td>2014-04-22 03:53:30</td>\n",
       "      <td>1</td>\n",
       "      <td>1</td>\n",
       "    </tr>\n",
       "    <tr>\n",
       "      <th>1</th>\n",
       "      <td>2013-11-15 03:45:04</td>\n",
       "      <td>2</td>\n",
       "      <td>1</td>\n",
       "    </tr>\n",
       "    <tr>\n",
       "      <th>2</th>\n",
       "      <td>2013-11-29 03:45:04</td>\n",
       "      <td>2</td>\n",
       "      <td>1</td>\n",
       "    </tr>\n",
       "    <tr>\n",
       "      <th>3</th>\n",
       "      <td>2013-12-09 03:45:04</td>\n",
       "      <td>2</td>\n",
       "      <td>1</td>\n",
       "    </tr>\n",
       "    <tr>\n",
       "      <th>4</th>\n",
       "      <td>2013-12-25 03:45:04</td>\n",
       "      <td>2</td>\n",
       "      <td>1</td>\n",
       "    </tr>\n",
       "    <tr>\n",
       "      <th>5</th>\n",
       "      <td>2013-12-31 03:45:04</td>\n",
       "      <td>2</td>\n",
       "      <td>1</td>\n",
       "    </tr>\n",
       "    <tr>\n",
       "      <th>6</th>\n",
       "      <td>2014-01-08 03:45:04</td>\n",
       "      <td>2</td>\n",
       "      <td>1</td>\n",
       "    </tr>\n",
       "    <tr>\n",
       "      <th>7</th>\n",
       "      <td>2014-02-03 03:45:04</td>\n",
       "      <td>2</td>\n",
       "      <td>1</td>\n",
       "    </tr>\n",
       "    <tr>\n",
       "      <th>8</th>\n",
       "      <td>2014-02-08 03:45:04</td>\n",
       "      <td>2</td>\n",
       "      <td>1</td>\n",
       "    </tr>\n",
       "    <tr>\n",
       "      <th>9</th>\n",
       "      <td>2014-02-09 03:45:04</td>\n",
       "      <td>2</td>\n",
       "      <td>1</td>\n",
       "    </tr>\n",
       "  </tbody>\n",
       "</table>\n",
       "</div>"
      ],
      "text/plain": [
       "           time_stamp  user_id  visited\n",
       "0 2014-04-22 03:53:30        1        1\n",
       "1 2013-11-15 03:45:04        2        1\n",
       "2 2013-11-29 03:45:04        2        1\n",
       "3 2013-12-09 03:45:04        2        1\n",
       "4 2013-12-25 03:45:04        2        1\n",
       "5 2013-12-31 03:45:04        2        1\n",
       "6 2014-01-08 03:45:04        2        1\n",
       "7 2014-02-03 03:45:04        2        1\n",
       "8 2014-02-08 03:45:04        2        1\n",
       "9 2014-02-09 03:45:04        2        1"
      ]
     },
     "execution_count": 4,
     "metadata": {},
     "output_type": "execute_result"
    }
   ],
   "source": [
    "engagement = pd.read_csv('takehome_user_engagement.csv',parse_dates=['time_stamp'])\n",
    "engagement.head(10)"
   ]
  },
  {
   "cell_type": "code",
   "execution_count": 5,
   "metadata": {},
   "outputs": [
    {
     "name": "stdout",
     "output_type": "stream",
     "text": [
      "<class 'pandas.core.frame.DataFrame'>\n",
      "RangeIndex: 207917 entries, 0 to 207916\n",
      "Data columns (total 3 columns):\n",
      " #   Column      Non-Null Count   Dtype         \n",
      "---  ------      --------------   -----         \n",
      " 0   time_stamp  207917 non-null  datetime64[ns]\n",
      " 1   user_id     207917 non-null  int64         \n",
      " 2   visited     207917 non-null  int64         \n",
      "dtypes: datetime64[ns](1), int64(2)\n",
      "memory usage: 4.8 MB\n"
     ]
    }
   ],
   "source": [
    "engagement.info()"
   ]
  },
  {
   "cell_type": "code",
   "execution_count": 6,
   "metadata": {},
   "outputs": [
    {
     "name": "stdout",
     "output_type": "stream",
     "text": [
      "Min: 2012-05-31 08:20:06\n",
      "Max: 2014-06-06 14:58:50\n"
     ]
    }
   ],
   "source": [
    "print('Min:',min(engagement.time_stamp))\n",
    "print('Max:',max(engagement.time_stamp))"
   ]
  },
  {
   "cell_type": "code",
   "execution_count": 7,
   "metadata": {},
   "outputs": [
    {
     "data": {
      "text/plain": [
       "1    207917\n",
       "Name: visited, dtype: int64"
      ]
     },
     "execution_count": 7,
     "metadata": {},
     "output_type": "execute_result"
    }
   ],
   "source": [
    "engagement.visited.value_counts()"
   ]
  },
  {
   "cell_type": "code",
   "execution_count": 8,
   "metadata": {},
   "outputs": [
    {
     "name": "stdout",
     "output_type": "stream",
     "text": [
      "8823\n"
     ]
    }
   ],
   "source": [
    "print(engagement.user_id.nunique())"
   ]
  },
  {
   "cell_type": "markdown",
   "metadata": {},
   "source": [
    "The usage summary table covers about 2 years and there are 8823 (approx 3/4 of the users in the other table) unique users in the usage summary table. The column `visited` just denotes that the user visited. "
   ]
  },
  {
   "cell_type": "markdown",
   "metadata": {},
   "source": [
    "Creating target 'adopted user', a user who has logged into the product on three seperate days in at least one seven-day period. "
   ]
  },
  {
   "cell_type": "code",
   "execution_count": 9,
   "metadata": {},
   "outputs": [],
   "source": [
    "test = engagement[engagement.user_id==2].time_stamp"
   ]
  },
  {
   "cell_type": "code",
   "execution_count": 10,
   "metadata": {},
   "outputs": [
    {
     "data": {
      "text/plain": [
       "1    2013-11-15 03:45:04\n",
       "2    2013-11-29 03:45:04\n",
       "3    2013-12-09 03:45:04\n",
       "4    2013-12-25 03:45:04\n",
       "5    2013-12-31 03:45:04\n",
       "6    2014-01-08 03:45:04\n",
       "7    2014-02-03 03:45:04\n",
       "8    2014-02-08 03:45:04\n",
       "9    2014-02-09 03:45:04\n",
       "10   2014-02-13 03:45:04\n",
       "11   2014-02-16 03:45:04\n",
       "12   2014-03-09 03:45:04\n",
       "13   2014-03-13 03:45:04\n",
       "14   2014-03-31 03:45:04\n",
       "Name: time_stamp, dtype: datetime64[ns]"
      ]
     },
     "execution_count": 10,
     "metadata": {},
     "output_type": "execute_result"
    }
   ],
   "source": [
    "test"
   ]
  },
  {
   "cell_type": "code",
   "execution_count": 11,
   "metadata": {},
   "outputs": [
    {
     "data": {
      "text/plain": [
       "1"
      ]
     },
     "execution_count": 11,
     "metadata": {},
     "output_type": "execute_result"
    }
   ],
   "source": [
    "def Adopted(srz):\n",
    "    \"\"\"\n",
    "    This function to be used with pandas groupby time_stamp series.\n",
    "    \n",
    "    Will loop through the series and calculate the difference in days \n",
    "    from previous log in and to next log in. If combined days is less than 7\n",
    "    then return 1 else 0.\n",
    "    \"\"\"\n",
    "    if len(srz)<3:\n",
    "        return 0\n",
    "\n",
    "\n",
    "    for i in range(1,len(srz)-1):\n",
    "        previous = srz.iloc[i] - srz.iloc[i-1]\n",
    "        nextt = srz.iloc[i+1] - srz.iloc[i]\n",
    "        if previous.days + nextt.days <=7:\n",
    "            return 1\n",
    "        else:\n",
    "            continue\n",
    "    return 0\n",
    "Adopted(test)"
   ]
  },
  {
   "cell_type": "code",
   "execution_count": 12,
   "metadata": {},
   "outputs": [],
   "source": [
    "adoption = pd.DataFrame(engagement.groupby('user_id')['time_stamp'].agg(Adopted))"
   ]
  },
  {
   "cell_type": "code",
   "execution_count": 13,
   "metadata": {
    "scrolled": true
   },
   "outputs": [
    {
     "data": {
      "text/plain": [
       "time_stamp    0.187691\n",
       "dtype: float64"
      ]
     },
     "execution_count": 13,
     "metadata": {},
     "output_type": "execute_result"
    }
   ],
   "source": [
    "adoption.sum()/len(adoption)"
   ]
  },
  {
   "cell_type": "markdown",
   "metadata": {},
   "source": [
    "Only 18% are classified as 'adopted' users"
   ]
  },
  {
   "cell_type": "code",
   "execution_count": 14,
   "metadata": {},
   "outputs": [
    {
     "data": {
      "text/html": [
       "<div>\n",
       "<style scoped>\n",
       "    .dataframe tbody tr th:only-of-type {\n",
       "        vertical-align: middle;\n",
       "    }\n",
       "\n",
       "    .dataframe tbody tr th {\n",
       "        vertical-align: top;\n",
       "    }\n",
       "\n",
       "    .dataframe thead th {\n",
       "        text-align: right;\n",
       "    }\n",
       "</style>\n",
       "<table border=\"1\" class=\"dataframe\">\n",
       "  <thead>\n",
       "    <tr style=\"text-align: right;\">\n",
       "      <th></th>\n",
       "      <th>time_stamp</th>\n",
       "    </tr>\n",
       "    <tr>\n",
       "      <th>user_id</th>\n",
       "      <th></th>\n",
       "    </tr>\n",
       "  </thead>\n",
       "  <tbody>\n",
       "    <tr>\n",
       "      <th>1</th>\n",
       "      <td>0</td>\n",
       "    </tr>\n",
       "    <tr>\n",
       "      <th>2</th>\n",
       "      <td>1</td>\n",
       "    </tr>\n",
       "    <tr>\n",
       "      <th>3</th>\n",
       "      <td>0</td>\n",
       "    </tr>\n",
       "    <tr>\n",
       "      <th>4</th>\n",
       "      <td>0</td>\n",
       "    </tr>\n",
       "    <tr>\n",
       "      <th>5</th>\n",
       "      <td>0</td>\n",
       "    </tr>\n",
       "  </tbody>\n",
       "</table>\n",
       "</div>"
      ],
      "text/plain": [
       "         time_stamp\n",
       "user_id            \n",
       "1                 0\n",
       "2                 1\n",
       "3                 0\n",
       "4                 0\n",
       "5                 0"
      ]
     },
     "execution_count": 14,
     "metadata": {},
     "output_type": "execute_result"
    }
   ],
   "source": [
    "adoption.head()"
   ]
  },
  {
   "cell_type": "code",
   "execution_count": 15,
   "metadata": {},
   "outputs": [],
   "source": [
    "adoption = adoption.rename(columns={'time_stamp':'adopted'})\n",
    "users = users.merge(adoption, how='left',left_on='user_id',right_index=True, validate='1:1')\n",
    "users['adopted'] = users['adopted'].fillna(0)"
   ]
  },
  {
   "cell_type": "code",
   "execution_count": 16,
   "metadata": {},
   "outputs": [
    {
     "name": "stdout",
     "output_type": "stream",
     "text": [
      "<class 'pandas.core.frame.DataFrame'>\n",
      "RangeIndex: 12000 entries, 0 to 11999\n",
      "Data columns (total 11 columns):\n",
      " #   Column                      Non-Null Count  Dtype         \n",
      "---  ------                      --------------  -----         \n",
      " 0   user_id                     12000 non-null  int64         \n",
      " 1   creation_time               12000 non-null  datetime64[ns]\n",
      " 2   name                        12000 non-null  object        \n",
      " 3   email                       12000 non-null  object        \n",
      " 4   creation_source             12000 non-null  object        \n",
      " 5   last_session_creation_time  8823 non-null   datetime64[ns]\n",
      " 6   opted_in_to_mailing_list    12000 non-null  int64         \n",
      " 7   enabled_for_marketing_drip  12000 non-null  int64         \n",
      " 8   org_id                      12000 non-null  int64         \n",
      " 9   invited_by_user_id          6417 non-null   float64       \n",
      " 10  adopted                     12000 non-null  float64       \n",
      "dtypes: datetime64[ns](2), float64(2), int64(4), object(3)\n",
      "memory usage: 1.0+ MB\n"
     ]
    }
   ],
   "source": [
    "users.info()"
   ]
  },
  {
   "cell_type": "markdown",
   "metadata": {},
   "source": [
    "Perfect. Now ready to analyze the data. "
   ]
  },
  {
   "cell_type": "markdown",
   "metadata": {},
   "source": [
    "## Analysis\n",
    "I'll start by profiling the columns.\n",
    "### creation_time "
   ]
  },
  {
   "cell_type": "code",
   "execution_count": 17,
   "metadata": {},
   "outputs": [
    {
     "name": "stdout",
     "output_type": "stream",
     "text": [
      "<class 'pandas.core.frame.DataFrame'>\n",
      "RangeIndex: 12000 entries, 0 to 11999\n",
      "Data columns (total 11 columns):\n",
      " #   Column                      Non-Null Count  Dtype         \n",
      "---  ------                      --------------  -----         \n",
      " 0   user_id                     12000 non-null  int64         \n",
      " 1   creation_time               12000 non-null  datetime64[ns]\n",
      " 2   name                        12000 non-null  object        \n",
      " 3   email                       12000 non-null  object        \n",
      " 4   creation_source             12000 non-null  object        \n",
      " 5   last_session_creation_time  8823 non-null   datetime64[ns]\n",
      " 6   opted_in_to_mailing_list    12000 non-null  int64         \n",
      " 7   enabled_for_marketing_drip  12000 non-null  int64         \n",
      " 8   org_id                      12000 non-null  int64         \n",
      " 9   invited_by_user_id          6417 non-null   float64       \n",
      " 10  adopted                     12000 non-null  float64       \n",
      "dtypes: datetime64[ns](2), float64(2), int64(4), object(3)\n",
      "memory usage: 1.0+ MB\n"
     ]
    }
   ],
   "source": [
    "users.info()"
   ]
  },
  {
   "cell_type": "code",
   "execution_count": 18,
   "metadata": {},
   "outputs": [
    {
     "data": {
      "text/html": [
       "<div>\n",
       "<style scoped>\n",
       "    .dataframe tbody tr th:only-of-type {\n",
       "        vertical-align: middle;\n",
       "    }\n",
       "\n",
       "    .dataframe tbody tr th {\n",
       "        vertical-align: top;\n",
       "    }\n",
       "\n",
       "    .dataframe thead th {\n",
       "        text-align: right;\n",
       "    }\n",
       "</style>\n",
       "<table border=\"1\" class=\"dataframe\">\n",
       "  <thead>\n",
       "    <tr style=\"text-align: right;\">\n",
       "      <th></th>\n",
       "      <th>creation_time</th>\n",
       "      <th>creation_month</th>\n",
       "      <th>creation_dow</th>\n",
       "      <th>creation_hour</th>\n",
       "    </tr>\n",
       "  </thead>\n",
       "  <tbody>\n",
       "    <tr>\n",
       "      <th>0</th>\n",
       "      <td>2014-04-22 03:53:30</td>\n",
       "      <td>4</td>\n",
       "      <td>1</td>\n",
       "      <td>3</td>\n",
       "    </tr>\n",
       "    <tr>\n",
       "      <th>1</th>\n",
       "      <td>2013-11-15 03:45:04</td>\n",
       "      <td>11</td>\n",
       "      <td>4</td>\n",
       "      <td>3</td>\n",
       "    </tr>\n",
       "    <tr>\n",
       "      <th>2</th>\n",
       "      <td>2013-03-19 23:14:52</td>\n",
       "      <td>3</td>\n",
       "      <td>1</td>\n",
       "      <td>23</td>\n",
       "    </tr>\n",
       "    <tr>\n",
       "      <th>3</th>\n",
       "      <td>2013-05-21 08:09:28</td>\n",
       "      <td>5</td>\n",
       "      <td>1</td>\n",
       "      <td>8</td>\n",
       "    </tr>\n",
       "    <tr>\n",
       "      <th>4</th>\n",
       "      <td>2013-01-17 10:14:20</td>\n",
       "      <td>1</td>\n",
       "      <td>3</td>\n",
       "      <td>10</td>\n",
       "    </tr>\n",
       "    <tr>\n",
       "      <th>...</th>\n",
       "      <td>...</td>\n",
       "      <td>...</td>\n",
       "      <td>...</td>\n",
       "      <td>...</td>\n",
       "    </tr>\n",
       "    <tr>\n",
       "      <th>11995</th>\n",
       "      <td>2013-09-06 06:14:15</td>\n",
       "      <td>9</td>\n",
       "      <td>4</td>\n",
       "      <td>6</td>\n",
       "    </tr>\n",
       "    <tr>\n",
       "      <th>11996</th>\n",
       "      <td>2013-01-10 18:28:37</td>\n",
       "      <td>1</td>\n",
       "      <td>3</td>\n",
       "      <td>18</td>\n",
       "    </tr>\n",
       "    <tr>\n",
       "      <th>11997</th>\n",
       "      <td>2014-04-27 12:45:16</td>\n",
       "      <td>4</td>\n",
       "      <td>6</td>\n",
       "      <td>12</td>\n",
       "    </tr>\n",
       "    <tr>\n",
       "      <th>11998</th>\n",
       "      <td>2012-05-31 11:55:59</td>\n",
       "      <td>5</td>\n",
       "      <td>3</td>\n",
       "      <td>11</td>\n",
       "    </tr>\n",
       "    <tr>\n",
       "      <th>11999</th>\n",
       "      <td>2014-01-26 08:57:12</td>\n",
       "      <td>1</td>\n",
       "      <td>6</td>\n",
       "      <td>8</td>\n",
       "    </tr>\n",
       "  </tbody>\n",
       "</table>\n",
       "<p>12000 rows × 4 columns</p>\n",
       "</div>"
      ],
      "text/plain": [
       "            creation_time  creation_month  creation_dow  creation_hour\n",
       "0     2014-04-22 03:53:30               4             1              3\n",
       "1     2013-11-15 03:45:04              11             4              3\n",
       "2     2013-03-19 23:14:52               3             1             23\n",
       "3     2013-05-21 08:09:28               5             1              8\n",
       "4     2013-01-17 10:14:20               1             3             10\n",
       "...                   ...             ...           ...            ...\n",
       "11995 2013-09-06 06:14:15               9             4              6\n",
       "11996 2013-01-10 18:28:37               1             3             18\n",
       "11997 2014-04-27 12:45:16               4             6             12\n",
       "11998 2012-05-31 11:55:59               5             3             11\n",
       "11999 2014-01-26 08:57:12               1             6              8\n",
       "\n",
       "[12000 rows x 4 columns]"
      ]
     },
     "execution_count": 18,
     "metadata": {},
     "output_type": "execute_result"
    }
   ],
   "source": [
    "users['creation_month'] = users.creation_time.dt.month\n",
    "users['creation_dow'] = users.creation_time.dt.dayofweek\n",
    "users['creation_hour'] = users.creation_time.dt.hour\n",
    "users[['creation_time','creation_month','creation_dow','creation_hour']]"
   ]
  },
  {
   "cell_type": "code",
   "execution_count": 19,
   "metadata": {},
   "outputs": [
    {
     "data": {
      "image/png": "[encoded data removed]",
      "text/plain": [
       "<Figure size 432x288 with 1 Axes>"
      ]
     },
     "metadata": {
      "needs_background": "light"
     },
     "output_type": "display_data"
    },
    {
     "data": {
      "image/png": "[encoded data removed]",
      "text/plain": [
       "<Figure size 432x288 with 1 Axes>"
      ]
     },
     "metadata": {
      "needs_background": "light"
     },
     "output_type": "display_data"
    },
    {
     "data": {
      "image/png": "[encoded data removed]",
      "text/plain": [
       "<Figure size 432x288 with 1 Axes>"
      ]
     },
     "metadata": {
      "needs_background": "light"
     },
     "output_type": "display_data"
    }
   ],
   "source": [
    "for col in ['creation_month','creation_dow','creation_hour']:\n",
    "    by_col = users.groupby(col)['adopted'].agg(['count','sum'])\n",
    "    by_col['adoptionRate'] = by_col['sum'] / by_col['count']\n",
    "    std_dev = by_col['adoptionRate'].std()\n",
    "    \n",
    "    \n",
    "    by_col.plot(kind='bar',y='adoptionRate')\n",
    "    plt.ylabel('Adoption Rate')\n",
    "    plt.xlabel(col)\n",
    "    plt.title(col+f' std:{std_dev:.3f}')\n",
    "    plt.show()"
   ]
  },
  {
   "cell_type": "markdown",
   "metadata": {},
   "source": [
    "The adoption rate does seem to vary by creation month, especially April and May which have low adoption rates. \n",
    "\n",
    "The adoption rate varies little by day of the week, but Monday's are lower than the rest.  \n",
    "\n",
    "The adoption rate for hour of creation varies a bit more than day of the week, but not as much as by month. There do appear to be some trends present for the hour of creation.\n",
    "\n",
    "`creation_month` and `creation_hour` look useful for prediction.  I'll do a chi2 test to see if the effect is significant.\n",
    "\n"
   ]
  },
  {
   "cell_type": "code",
   "execution_count": 20,
   "metadata": {},
   "outputs": [
    {
     "name": "stdout",
     "output_type": "stream",
     "text": [
      "creation_month chi2: 143.569, pval: 0.000\n",
      "creation_dow chi2: 3.169, pval: 0.787\n",
      "creation_hour chi2: 34.619, pval: 0.057\n"
     ]
    }
   ],
   "source": [
    "from scipy.stats import chi2_contingency\n",
    "for col in ['creation_month','creation_dow','creation_hour']:\n",
    "    chi2, pval, dof, exp = chi2_contingency( pd.crosstab(users[col], users.adopted) )\n",
    "    print(f'{col} chi2: {chi2:.3f}, pval: {pval:.3f}')\n",
    "    "
   ]
  },
  {
   "cell_type": "markdown",
   "metadata": {},
   "source": [
    "Since the pvalue for month is ~0 there is evidence the effect of `creation_month` is statistically significant. Because the p-value for hour is so close to 5% I will say this is also significant and include it in any modelling efforts.  Day of the week does is insignificant"
   ]
  },
  {
   "cell_type": "markdown",
   "metadata": {},
   "source": [
    "### name"
   ]
  },
  {
   "cell_type": "code",
   "execution_count": 21,
   "metadata": {},
   "outputs": [
    {
     "data": {
      "text/plain": [
       "11349"
      ]
     },
     "execution_count": 21,
     "metadata": {},
     "output_type": "execute_result"
    }
   ],
   "source": [
    "users.name.nunique()"
   ]
  },
  {
   "cell_type": "markdown",
   "metadata": {},
   "source": [
    "There are some duplicates names.  It looks like some people have multiple accounts."
   ]
  },
  {
   "cell_type": "code",
   "execution_count": 22,
   "metadata": {
    "scrolled": false
   },
   "outputs": [],
   "source": [
    "### Boolean column for if a user has multiple accounts\n",
    "users['multipleAccounts'] = 0\n",
    "users.loc[users.name.duplicated(keep=False),'multipleAccounts'] = 1\n",
    "\n",
    "### column for number of multiple accounts\n",
    "users = users.merge(pd.DataFrame(users.groupby('name')['name'].count()).rename(columns={'name':'numberAccounts'}),\\\n",
    "            how='left',left_on='name',right_on='name')\n"
   ]
  },
  {
   "cell_type": "code",
   "execution_count": 23,
   "metadata": {
    "scrolled": true
   },
   "outputs": [
    {
     "data": {
      "text/html": [
       "<div>\n",
       "<style scoped>\n",
       "    .dataframe tbody tr th:only-of-type {\n",
       "        vertical-align: middle;\n",
       "    }\n",
       "\n",
       "    .dataframe tbody tr th {\n",
       "        vertical-align: top;\n",
       "    }\n",
       "\n",
       "    .dataframe thead th {\n",
       "        text-align: right;\n",
       "    }\n",
       "</style>\n",
       "<table border=\"1\" class=\"dataframe\">\n",
       "  <thead>\n",
       "    <tr style=\"text-align: right;\">\n",
       "      <th></th>\n",
       "      <th>multipleAccounts</th>\n",
       "      <th>numberAccounts</th>\n",
       "    </tr>\n",
       "  </thead>\n",
       "  <tbody>\n",
       "    <tr>\n",
       "      <th>0</th>\n",
       "      <td>0</td>\n",
       "      <td>1</td>\n",
       "    </tr>\n",
       "    <tr>\n",
       "      <th>1</th>\n",
       "      <td>0</td>\n",
       "      <td>1</td>\n",
       "    </tr>\n",
       "    <tr>\n",
       "      <th>2</th>\n",
       "      <td>0</td>\n",
       "      <td>1</td>\n",
       "    </tr>\n",
       "    <tr>\n",
       "      <th>3</th>\n",
       "      <td>1</td>\n",
       "      <td>2</td>\n",
       "    </tr>\n",
       "    <tr>\n",
       "      <th>4</th>\n",
       "      <td>0</td>\n",
       "      <td>1</td>\n",
       "    </tr>\n",
       "    <tr>\n",
       "      <th>...</th>\n",
       "      <td>...</td>\n",
       "      <td>...</td>\n",
       "    </tr>\n",
       "    <tr>\n",
       "      <th>11995</th>\n",
       "      <td>0</td>\n",
       "      <td>1</td>\n",
       "    </tr>\n",
       "    <tr>\n",
       "      <th>11996</th>\n",
       "      <td>0</td>\n",
       "      <td>1</td>\n",
       "    </tr>\n",
       "    <tr>\n",
       "      <th>11997</th>\n",
       "      <td>0</td>\n",
       "      <td>1</td>\n",
       "    </tr>\n",
       "    <tr>\n",
       "      <th>11998</th>\n",
       "      <td>0</td>\n",
       "      <td>1</td>\n",
       "    </tr>\n",
       "    <tr>\n",
       "      <th>11999</th>\n",
       "      <td>0</td>\n",
       "      <td>1</td>\n",
       "    </tr>\n",
       "  </tbody>\n",
       "</table>\n",
       "<p>12000 rows × 2 columns</p>\n",
       "</div>"
      ],
      "text/plain": [
       "       multipleAccounts  numberAccounts\n",
       "0                     0               1\n",
       "1                     0               1\n",
       "2                     0               1\n",
       "3                     1               2\n",
       "4                     0               1\n",
       "...                 ...             ...\n",
       "11995                 0               1\n",
       "11996                 0               1\n",
       "11997                 0               1\n",
       "11998                 0               1\n",
       "11999                 0               1\n",
       "\n",
       "[12000 rows x 2 columns]"
      ]
     },
     "execution_count": 23,
     "metadata": {},
     "output_type": "execute_result"
    }
   ],
   "source": [
    "users[['multipleAccounts','numberAccounts']]"
   ]
  },
  {
   "cell_type": "code",
   "execution_count": 24,
   "metadata": {},
   "outputs": [
    {
     "data": {
      "image/png": "[encoded data removed]",
      "text/plain": [
       "<Figure size 432x288 with 1 Axes>"
      ]
     },
     "metadata": {
      "needs_background": "light"
     },
     "output_type": "display_data"
    },
    {
     "data": {
      "image/png": "[encoded data removed]",
      "text/plain": [
       "<Figure size 432x288 with 1 Axes>"
      ]
     },
     "metadata": {
      "needs_background": "light"
     },
     "output_type": "display_data"
    }
   ],
   "source": [
    "for col in ['multipleAccounts','numberAccounts']:\n",
    "    by_col = users.groupby(col)['adopted'].agg(['count','sum'])\n",
    "    by_col['adoptionRate'] = by_col['sum'] / by_col['count']\n",
    "    std_dev = by_col['adoptionRate'].std()\n",
    "    \n",
    "    \n",
    "    by_col.plot(kind='bar',y='adoptionRate')\n",
    "    plt.ylabel('Adoption Rate')\n",
    "    plt.xlabel(col)\n",
    "    plt.title(col+f' std:{std_dev:.3f}')\n",
    "    plt.show()"
   ]
  },
  {
   "cell_type": "markdown",
   "metadata": {},
   "source": [
    "There is very little difference in the adoption rate among whether the user has multiple accounts or not.\n"
   ]
  },
  {
   "cell_type": "code",
   "execution_count": 25,
   "metadata": {},
   "outputs": [
    {
     "name": "stdout",
     "output_type": "stream",
     "text": [
      "multipleAccounts chi2: 0.161, pval: 0.688\n",
      "numberAccounts chi2: 1.888, pval: 0.756\n"
     ]
    }
   ],
   "source": [
    "for col in ['multipleAccounts','numberAccounts']:\n",
    "    chi2, pval, dof, exp = chi2_contingency( pd.crosstab(users[col], users.adopted) )\n",
    "    print(f'{col} chi2: {chi2:.3f}, pval: {pval:.3f}')   \n",
    "    "
   ]
  },
  {
   "cell_type": "markdown",
   "metadata": {},
   "source": [
    "There is no statstical evidence these calculated columns are associated with whether the user is adopted or not."
   ]
  },
  {
   "cell_type": "code",
   "execution_count": 26,
   "metadata": {},
   "outputs": [
    {
     "name": "stdout",
     "output_type": "stream",
     "text": [
      "<class 'pandas.core.frame.DataFrame'>\n",
      "Int64Index: 12000 entries, 0 to 11999\n",
      "Data columns (total 16 columns):\n",
      " #   Column                      Non-Null Count  Dtype         \n",
      "---  ------                      --------------  -----         \n",
      " 0   user_id                     12000 non-null  int64         \n",
      " 1   creation_time               12000 non-null  datetime64[ns]\n",
      " 2   name                        12000 non-null  object        \n",
      " 3   email                       12000 non-null  object        \n",
      " 4   creation_source             12000 non-null  object        \n",
      " 5   last_session_creation_time  8823 non-null   datetime64[ns]\n",
      " 6   opted_in_to_mailing_list    12000 non-null  int64         \n",
      " 7   enabled_for_marketing_drip  12000 non-null  int64         \n",
      " 8   org_id                      12000 non-null  int64         \n",
      " 9   invited_by_user_id          6417 non-null   float64       \n",
      " 10  adopted                     12000 non-null  float64       \n",
      " 11  creation_month              12000 non-null  int64         \n",
      " 12  creation_dow                12000 non-null  int64         \n",
      " 13  creation_hour               12000 non-null  int64         \n",
      " 14  multipleAccounts            12000 non-null  int64         \n",
      " 15  numberAccounts              12000 non-null  int64         \n",
      "dtypes: datetime64[ns](2), float64(2), int64(9), object(3)\n",
      "memory usage: 1.8+ MB\n"
     ]
    }
   ],
   "source": [
    "users.info()"
   ]
  },
  {
   "cell_type": "markdown",
   "metadata": {},
   "source": [
    "### email"
   ]
  },
  {
   "cell_type": "code",
   "execution_count": 27,
   "metadata": {},
   "outputs": [
    {
     "data": {
      "text/plain": [
       "TomSchiffer@gmail.com            2\n",
       "LaerkeMBertelsen@gmail.com       2\n",
       "MagnusSWinther@jourrapide.com    2\n",
       "JacobTye@gmail.com               2\n",
       "AlfieLane@yahoo.com              2\n",
       "                                ..\n",
       "PhoebeKenyon@cuvox.de            1\n",
       "DiegoBarbosaRocha@yahoo.com      1\n",
       "LeoMacleod@gustr.com             1\n",
       "TomWeber@cuvox.de                1\n",
       "KaiMirams@yahoo.com              1\n",
       "Name: email, Length: 11980, dtype: int64"
      ]
     },
     "execution_count": 27,
     "metadata": {},
     "output_type": "execute_result"
    }
   ],
   "source": [
    "users.email.value_counts()"
   ]
  },
  {
   "cell_type": "markdown",
   "metadata": {},
   "source": [
    "There are duplicate emails. Maybe the were users who cancelled and then rejoined."
   ]
  },
  {
   "cell_type": "code",
   "execution_count": 28,
   "metadata": {},
   "outputs": [
    {
     "data": {
      "image/png": "[encoded data removed]",
      "text/plain": [
       "<Figure size 432x288 with 1 Axes>"
      ]
     },
     "metadata": {
      "needs_background": "light"
     },
     "output_type": "display_data"
    }
   ],
   "source": [
    "users['multipleEmails'] = 0\n",
    "users.loc[users.email.duplicated(keep=False),'multipleEmails'] = 1\n",
    "\n",
    "test = users.groupby('multipleEmails')['adopted'].agg(['sum','count'])\n",
    "test['adoptionRate'] = test['sum'] / test['count']\n",
    "test.plot(kind='bar',y='adoptionRate')\n",
    "plt.ylabel('Adoption Rate')\n",
    "plt.show()"
   ]
  },
  {
   "cell_type": "code",
   "execution_count": 29,
   "metadata": {},
   "outputs": [
    {
     "name": "stdout",
     "output_type": "stream",
     "text": [
      "multipleEmails chi2: 0.860, pval: 0.354\n"
     ]
    }
   ],
   "source": [
    "chi2, pval, dof, exp = chi2_contingency(pd.crosstab(users.multipleEmails,users.adopted))\n",
    "print(f'multipleEmails chi2: {chi2:.3f}, pval: {pval:.3f}')"
   ]
  },
  {
   "cell_type": "markdown",
   "metadata": {},
   "source": [
    "If a user has multiple email accounts there seems to be a negative correlation to the adoption rate, but it is not statistically significant. "
   ]
  },
  {
   "cell_type": "markdown",
   "metadata": {},
   "source": [
    "### creation_source"
   ]
  },
  {
   "cell_type": "code",
   "execution_count": 30,
   "metadata": {},
   "outputs": [
    {
     "data": {
      "text/plain": [
       "ORG_INVITE            0.354500\n",
       "GUEST_INVITE          0.180250\n",
       "PERSONAL_PROJECTS     0.175917\n",
       "SIGNUP                0.173917\n",
       "SIGNUP_GOOGLE_AUTH    0.115417\n",
       "Name: creation_source, dtype: float64"
      ]
     },
     "execution_count": 30,
     "metadata": {},
     "output_type": "execute_result"
    }
   ],
   "source": [
    "users.creation_source.value_counts()/users.shape[0]"
   ]
  },
  {
   "cell_type": "code",
   "execution_count": 31,
   "metadata": {},
   "outputs": [
    {
     "data": {
      "image/png": "[encoded data removed]",
      "text/plain": [
       "<Figure size 432x288 with 1 Axes>"
      ]
     },
     "metadata": {
      "needs_background": "light"
     },
     "output_type": "display_data"
    }
   ],
   "source": [
    "test = users.groupby('creation_source')['adopted'].agg(['count','sum'])\n",
    "test['adoptionRate'] = test['sum'] / test['count']\n",
    "test.sort_values('adoptionRate',ascending=False).plot(kind='bar',y='adoptionRate')\n",
    "\n",
    "plt.title('Adoption Rate by Source')\n",
    "plt.ylabel('Adoption Rate')\n",
    "plt.xlabel('')\n",
    "plt.xticks(rotation=45,fontsize=8)\n",
    "\n",
    "plt.legend().remove()\n",
    "plt.show()"
   ]
  },
  {
   "cell_type": "code",
   "execution_count": 32,
   "metadata": {},
   "outputs": [
    {
     "name": "stdout",
     "output_type": "stream",
     "text": [
      "creation_source chi2: 91.048, pval: 0.000\n"
     ]
    }
   ],
   "source": [
    "chi2, pval, dof, exp = chi2_contingency(pd.crosstab(users.creation_source,users.adopted))\n",
    "print(f'creation_source chi2: {chi2:.3f}, pval: {pval:.3f}')"
   ]
  },
  {
   "cell_type": "markdown",
   "metadata": {},
   "source": [
    "### last_session_creation_time"
   ]
  },
  {
   "cell_type": "code",
   "execution_count": 33,
   "metadata": {},
   "outputs": [
    {
     "data": {
      "text/plain": [
       "0.26475"
      ]
     },
     "execution_count": 33,
     "metadata": {},
     "output_type": "execute_result"
    }
   ],
   "source": [
    "users.last_session_creation_time.isna().sum()/users.shape[0]"
   ]
  },
  {
   "cell_type": "markdown",
   "metadata": {},
   "source": [
    "1/4 of the values are null for this column. I will assume this means they never logged in."
   ]
  },
  {
   "cell_type": "code",
   "execution_count": 34,
   "metadata": {
    "scrolled": true
   },
   "outputs": [
    {
     "data": {
      "image/png": "[encoded data removed]",
      "text/plain": [
       "<Figure size 432x288 with 1 Axes>"
      ]
     },
     "metadata": {
      "needs_background": "light"
     },
     "output_type": "display_data"
    }
   ],
   "source": [
    "users.last_session_creation_time.hist()\n",
    "plt.show()"
   ]
  },
  {
   "cell_type": "code",
   "execution_count": 35,
   "metadata": {},
   "outputs": [
    {
     "name": "stderr",
     "output_type": "stream",
     "text": [
      "C:\\Users\\blain\\Anaconda3\\lib\\site-packages\\ipykernel_launcher.py:19: FutureWarning: Indexing with multiple keys (implicitly converted to a tuple of keys) will be deprecated, use a list instead.\n"
     ]
    },
    {
     "data": {
      "text/html": [
       "<div>\n",
       "<style scoped>\n",
       "    .dataframe tbody tr th:only-of-type {\n",
       "        vertical-align: middle;\n",
       "    }\n",
       "\n",
       "    .dataframe tbody tr th {\n",
       "        vertical-align: top;\n",
       "    }\n",
       "\n",
       "    .dataframe thead th {\n",
       "        text-align: right;\n",
       "    }\n",
       "</style>\n",
       "<table border=\"1\" class=\"dataframe\">\n",
       "  <thead>\n",
       "    <tr style=\"text-align: right;\">\n",
       "      <th></th>\n",
       "      <th>adopted</th>\n",
       "      <th>0.0</th>\n",
       "      <th>1.0</th>\n",
       "    </tr>\n",
       "  </thead>\n",
       "  <tbody>\n",
       "    <tr>\n",
       "      <th rowspan=\"8\" valign=\"top\">days_since_last_session</th>\n",
       "      <th>count</th>\n",
       "      <td>10344.000000</td>\n",
       "      <td>1656.000000</td>\n",
       "    </tr>\n",
       "    <tr>\n",
       "      <th>mean</th>\n",
       "      <td>313.409223</td>\n",
       "      <td>78.740338</td>\n",
       "    </tr>\n",
       "    <tr>\n",
       "      <th>std</th>\n",
       "      <td>218.611174</td>\n",
       "      <td>155.313460</td>\n",
       "    </tr>\n",
       "    <tr>\n",
       "      <th>min</th>\n",
       "      <td>0.000000</td>\n",
       "      <td>1.000000</td>\n",
       "    </tr>\n",
       "    <tr>\n",
       "      <th>25%</th>\n",
       "      <td>113.000000</td>\n",
       "      <td>3.000000</td>\n",
       "    </tr>\n",
       "    <tr>\n",
       "      <th>50%</th>\n",
       "      <td>294.000000</td>\n",
       "      <td>9.000000</td>\n",
       "    </tr>\n",
       "    <tr>\n",
       "      <th>75%</th>\n",
       "      <td>496.000000</td>\n",
       "      <td>27.000000</td>\n",
       "    </tr>\n",
       "    <tr>\n",
       "      <th>max</th>\n",
       "      <td>736.000000</td>\n",
       "      <td>703.000000</td>\n",
       "    </tr>\n",
       "    <tr>\n",
       "      <th rowspan=\"8\" valign=\"top\">days_last-creation</th>\n",
       "      <th>count</th>\n",
       "      <td>10344.000000</td>\n",
       "      <td>1656.000000</td>\n",
       "    </tr>\n",
       "    <tr>\n",
       "      <th>mean</th>\n",
       "      <td>3.685615</td>\n",
       "      <td>292.507850</td>\n",
       "    </tr>\n",
       "    <tr>\n",
       "      <th>std</th>\n",
       "      <td>12.732705</td>\n",
       "      <td>206.845348</td>\n",
       "    </tr>\n",
       "    <tr>\n",
       "      <th>min</th>\n",
       "      <td>0.000000</td>\n",
       "      <td>4.000000</td>\n",
       "    </tr>\n",
       "    <tr>\n",
       "      <th>25%</th>\n",
       "      <td>0.000000</td>\n",
       "      <td>111.000000</td>\n",
       "    </tr>\n",
       "    <tr>\n",
       "      <th>50%</th>\n",
       "      <td>0.000000</td>\n",
       "      <td>243.500000</td>\n",
       "    </tr>\n",
       "    <tr>\n",
       "      <th>75%</th>\n",
       "      <td>1.000000</td>\n",
       "      <td>463.000000</td>\n",
       "    </tr>\n",
       "    <tr>\n",
       "      <th>max</th>\n",
       "      <td>189.000000</td>\n",
       "      <td>729.000000</td>\n",
       "    </tr>\n",
       "  </tbody>\n",
       "</table>\n",
       "</div>"
      ],
      "text/plain": [
       "adopted                                 0.0          1.0\n",
       "days_since_last_session count  10344.000000  1656.000000\n",
       "                        mean     313.409223    78.740338\n",
       "                        std      218.611174   155.313460\n",
       "                        min        0.000000     1.000000\n",
       "                        25%      113.000000     3.000000\n",
       "                        50%      294.000000     9.000000\n",
       "                        75%      496.000000    27.000000\n",
       "                        max      736.000000   703.000000\n",
       "days_last-creation      count  10344.000000  1656.000000\n",
       "                        mean       3.685615   292.507850\n",
       "                        std       12.732705   206.845348\n",
       "                        min        0.000000     4.000000\n",
       "                        25%        0.000000   111.000000\n",
       "                        50%        0.000000   243.500000\n",
       "                        75%        1.000000   463.000000\n",
       "                        max      189.000000   729.000000"
      ]
     },
     "execution_count": 35,
     "metadata": {},
     "output_type": "execute_result"
    }
   ],
   "source": [
    "### Assuming the records were pulled on the maximum date in this column\n",
    "\n",
    "max_date = max(users.last_session_creation_time)\n",
    "max_date\n",
    "users['days_since_last_session'] = (max_date - users.last_session_creation_time).dt.days\n",
    "\n",
    "### I will replace the nulls in this column with the day difference \n",
    "### between max_date and when the created their account\n",
    "\n",
    "users['days_since_last_session'] = users['days_since_last_session'].fillna(\\\n",
    "              (max_date - users.creation_time).dt.days)\n",
    "\n",
    "### Finally I will create a column that is the number of days\n",
    "### between account creation and their last session\n",
    "users['days_last-creation'] = ( users.last_session_creation_time - users.creation_time).dt.days\n",
    "users['days_last-creation'] = users['days_last-creation'].fillna(0)\n",
    "\n",
    "\n",
    "users.groupby('adopted')['days_since_last_session','days_last-creation'].describe().T"
   ]
  },
  {
   "cell_type": "code",
   "execution_count": 36,
   "metadata": {},
   "outputs": [
    {
     "data": {
      "image/png": "[encoded data removed]",
      "text/plain": [
       "<Figure size 432x288 with 2 Axes>"
      ]
     },
     "metadata": {
      "needs_background": "light"
     },
     "output_type": "display_data"
    }
   ],
   "source": [
    "fig,ax = plt.subplots(1,2,tight_layout=True)\n",
    "users['days_since_last_session'].hist(ax=ax[0])\n",
    "users['days_last-creation'].hist(ax=ax[1])\n",
    "ax[0].set_title('days_since_last_session')\n",
    "ax[1].set_title('days_last-creation')\n",
    "plt.show()\n"
   ]
  },
  {
   "cell_type": "code",
   "execution_count": 37,
   "metadata": {},
   "outputs": [
    {
     "data": {
      "image/png": "[encoded data removed]",
      "text/plain": [
       "<Figure size 432x288 with 2 Axes>"
      ]
     },
     "metadata": {
      "needs_background": "light"
     },
     "output_type": "display_data"
    }
   ],
   "source": [
    "fig,ax = plt.subplots(1,2,tight_layout=True)\n",
    "sns.boxplot(data=users, x='adopted', y='days_since_last_session',ax=ax[0])\n",
    "sns.boxplot(data=users, x='adopted', y='days_last-creation',ax=ax[1])\n",
    "\n",
    "plt.show()"
   ]
  },
  {
   "cell_type": "markdown",
   "metadata": {},
   "source": [
    "It looks like there is quite a big difference among adopted users and those who are not for these calculated columns."
   ]
  },
  {
   "cell_type": "markdown",
   "metadata": {},
   "source": [
    "### opted_in_to_mailing_list"
   ]
  },
  {
   "cell_type": "code",
   "execution_count": 38,
   "metadata": {},
   "outputs": [
    {
     "data": {
      "text/plain": [
       "0    9006\n",
       "1    2994\n",
       "Name: opted_in_to_mailing_list, dtype: int64"
      ]
     },
     "execution_count": 38,
     "metadata": {},
     "output_type": "execute_result"
    }
   ],
   "source": [
    "users.opted_in_to_mailing_list.value_counts()"
   ]
  },
  {
   "cell_type": "code",
   "execution_count": 39,
   "metadata": {},
   "outputs": [
    {
     "data": {
      "image/png": "[encoded data removed]",
      "text/plain": [
       "<Figure size 432x288 with 1 Axes>"
      ]
     },
     "metadata": {
      "needs_background": "light"
     },
     "output_type": "display_data"
    }
   ],
   "source": [
    "test = users.groupby('opted_in_to_mailing_list')['adopted'].agg(['sum','count'])\n",
    "test['adoptionRate'] = test['sum'] / test['count']\n",
    "test.plot(kind='bar',y='adoptionRate')\n",
    "plt.ylabel('Adoption Rate')\n",
    "plt.show()"
   ]
  },
  {
   "cell_type": "markdown",
   "metadata": {},
   "source": [
    "There is very little difference in the adoption rate among users who opted in to the mailing list and those that didn't."
   ]
  },
  {
   "cell_type": "code",
   "execution_count": 40,
   "metadata": {},
   "outputs": [
    {
     "name": "stdout",
     "output_type": "stream",
     "text": [
      "Opted_in_to_mailing_list chi2: 0.879, pval: 0.348\n"
     ]
    }
   ],
   "source": [
    "### chi2 test\n",
    "chi2, pval, dof, exp = chi2_contingency(pd.crosstab(users.opted_in_to_mailing_list,users.adopted))\n",
    "print(f'Opted_in_to_mailing_list chi2: {chi2:.3f}, pval: {pval:.3f}')"
   ]
  },
  {
   "cell_type": "code",
   "execution_count": 41,
   "metadata": {},
   "outputs": [
    {
     "name": "stdout",
     "output_type": "stream",
     "text": [
      "<class 'pandas.core.frame.DataFrame'>\n",
      "Int64Index: 12000 entries, 0 to 11999\n",
      "Data columns (total 19 columns):\n",
      " #   Column                      Non-Null Count  Dtype         \n",
      "---  ------                      --------------  -----         \n",
      " 0   user_id                     12000 non-null  int64         \n",
      " 1   creation_time               12000 non-null  datetime64[ns]\n",
      " 2   name                        12000 non-null  object        \n",
      " 3   email                       12000 non-null  object        \n",
      " 4   creation_source             12000 non-null  object        \n",
      " 5   last_session_creation_time  8823 non-null   datetime64[ns]\n",
      " 6   opted_in_to_mailing_list    12000 non-null  int64         \n",
      " 7   enabled_for_marketing_drip  12000 non-null  int64         \n",
      " 8   org_id                      12000 non-null  int64         \n",
      " 9   invited_by_user_id          6417 non-null   float64       \n",
      " 10  adopted                     12000 non-null  float64       \n",
      " 11  creation_month              12000 non-null  int64         \n",
      " 12  creation_dow                12000 non-null  int64         \n",
      " 13  creation_hour               12000 non-null  int64         \n",
      " 14  multipleAccounts            12000 non-null  int64         \n",
      " 15  numberAccounts              12000 non-null  int64         \n",
      " 16  multipleEmails              12000 non-null  int64         \n",
      " 17  days_since_last_session     12000 non-null  float64       \n",
      " 18  days_last-creation          12000 non-null  float64       \n",
      "dtypes: datetime64[ns](2), float64(4), int64(10), object(3)\n",
      "memory usage: 2.1+ MB\n"
     ]
    }
   ],
   "source": [
    "users.info()"
   ]
  },
  {
   "cell_type": "markdown",
   "metadata": {},
   "source": [
    "### enabled_for_marketing_drip"
   ]
  },
  {
   "cell_type": "code",
   "execution_count": 42,
   "metadata": {},
   "outputs": [
    {
     "data": {
      "text/plain": [
       "0    10208\n",
       "1     1792\n",
       "Name: enabled_for_marketing_drip, dtype: int64"
      ]
     },
     "execution_count": 42,
     "metadata": {},
     "output_type": "execute_result"
    }
   ],
   "source": [
    "users.enabled_for_marketing_drip.value_counts()"
   ]
  },
  {
   "cell_type": "code",
   "execution_count": 43,
   "metadata": {},
   "outputs": [
    {
     "data": {
      "image/png": "[encoded data removed]",
      "text/plain": [
       "<Figure size 432x288 with 1 Axes>"
      ]
     },
     "metadata": {
      "needs_background": "light"
     },
     "output_type": "display_data"
    }
   ],
   "source": [
    "test = users.groupby('enabled_for_marketing_drip')['adopted'].agg(['sum','count'])\n",
    "test['adoptionRate'] = test['sum'] / test['count']\n",
    "test.plot(kind='bar',y='adoptionRate')\n",
    "plt.ylabel('Adoption Rate')\n",
    "plt.show()"
   ]
  },
  {
   "cell_type": "markdown",
   "metadata": {},
   "source": [
    "Again there is very little difference in the adoption rate among these 2 categories. "
   ]
  },
  {
   "cell_type": "code",
   "execution_count": 44,
   "metadata": {},
   "outputs": [
    {
     "name": "stdout",
     "output_type": "stream",
     "text": [
      "enabled_for_marketing_drip chi2: 0.467, pval: 0.494\n"
     ]
    }
   ],
   "source": [
    "chi2, pval, dof, exp = chi2_contingency(pd.crosstab(users.enabled_for_marketing_drip,users.adopted))\n",
    "print(f'enabled_for_marketing_drip chi2: {chi2:.3f}, pval: {pval:.3f}')"
   ]
  },
  {
   "cell_type": "markdown",
   "metadata": {},
   "source": [
    "And there is no evidence that this observed small difference in adoption rate is statistically significant."
   ]
  },
  {
   "cell_type": "markdown",
   "metadata": {},
   "source": [
    "### org_id"
   ]
  },
  {
   "cell_type": "code",
   "execution_count": 45,
   "metadata": {},
   "outputs": [
    {
     "data": {
      "text/plain": [
       "0      319\n",
       "1      233\n",
       "2      201\n",
       "3      168\n",
       "4      159\n",
       "      ... \n",
       "315      9\n",
       "400      8\n",
       "397      8\n",
       "386      7\n",
       "416      2\n",
       "Name: org_id, Length: 417, dtype: int64"
      ]
     },
     "execution_count": 45,
     "metadata": {},
     "output_type": "execute_result"
    }
   ],
   "source": [
    "users.org_id.value_counts()"
   ]
  },
  {
   "cell_type": "markdown",
   "metadata": {},
   "source": [
    "There are 417 unique organizations and the largest has 319 users."
   ]
  },
  {
   "cell_type": "code",
   "execution_count": 46,
   "metadata": {
    "scrolled": true
   },
   "outputs": [
    {
     "data": {
      "image/png": "[encoded data removed]",
      "text/plain": [
       "<Figure size 432x288 with 1 Axes>"
      ]
     },
     "metadata": {
      "needs_background": "light"
     },
     "output_type": "display_data"
    }
   ],
   "source": [
    "test = users.groupby('org_id')['adopted'].agg(['sum','count'])\n",
    "test['adoptionRate'] = test['sum'] / test['count']\n",
    "test.sort_values('adoptionRate',ascending=False).plot(kind='bar',y='adoptionRate')\n",
    "plt.ylabel('Adoption Rate')\n",
    "plt.xlabel('Organization')\n",
    "plt.tick_params(axis='x',bottom=False,labelbottom=False)\n",
    "plt.legend().remove()\n",
    "plt.title('User adoption rate for all organizations')\n",
    "plt.show()"
   ]
  },
  {
   "cell_type": "markdown",
   "metadata": {},
   "source": [
    "There is a wide range of adoption rates among the 417 unique organizations.  "
   ]
  },
  {
   "cell_type": "code",
   "execution_count": 47,
   "metadata": {},
   "outputs": [
    {
     "name": "stdout",
     "output_type": "stream",
     "text": [
      "org_id chi2: 541.536, pval: 0.000\n"
     ]
    }
   ],
   "source": [
    "chi2, pval, dof, exp = chi2_contingency(pd.crosstab(users.org_id,users.adopted))\n",
    "print(f'org_id chi2: {chi2:.3f}, pval: {pval:.3f}')"
   ]
  },
  {
   "cell_type": "markdown",
   "metadata": {},
   "source": [
    "There is a strong association between `org_id` and whether the users is adopted. To utilize this feature in modelling I need to encode these somehow. 417 is a lot of categories to encode and one-hot encoding would create a sparse data set.  Applying binary encoding or hashing would greatly reduce the number, but I would sacrifice interpretability.  \n",
    "\n",
    "This project is more about determining factors that can predict adoption than about creating an accurate model.  I need to keep that in mind.  Thus, I will try one hot encoding first. These will be implemented in the next section."
   ]
  },
  {
   "cell_type": "code",
   "execution_count": 48,
   "metadata": {},
   "outputs": [
    {
     "name": "stdout",
     "output_type": "stream",
     "text": [
      "9\n"
     ]
    }
   ],
   "source": [
    "### additoinal columns needed for binary encoding\n",
    "print(round(np.log2(417)))"
   ]
  },
  {
   "cell_type": "code",
   "execution_count": 49,
   "metadata": {
    "scrolled": true
   },
   "outputs": [
    {
     "name": "stdout",
     "output_type": "stream",
     "text": [
      "<class 'pandas.core.frame.DataFrame'>\n",
      "Int64Index: 12000 entries, 0 to 11999\n",
      "Data columns (total 19 columns):\n",
      " #   Column                      Non-Null Count  Dtype         \n",
      "---  ------                      --------------  -----         \n",
      " 0   user_id                     12000 non-null  int64         \n",
      " 1   creation_time               12000 non-null  datetime64[ns]\n",
      " 2   name                        12000 non-null  object        \n",
      " 3   email                       12000 non-null  object        \n",
      " 4   creation_source             12000 non-null  object        \n",
      " 5   last_session_creation_time  8823 non-null   datetime64[ns]\n",
      " 6   opted_in_to_mailing_list    12000 non-null  int64         \n",
      " 7   enabled_for_marketing_drip  12000 non-null  int64         \n",
      " 8   org_id                      12000 non-null  int64         \n",
      " 9   invited_by_user_id          6417 non-null   float64       \n",
      " 10  adopted                     12000 non-null  float64       \n",
      " 11  creation_month              12000 non-null  int64         \n",
      " 12  creation_dow                12000 non-null  int64         \n",
      " 13  creation_hour               12000 non-null  int64         \n",
      " 14  multipleAccounts            12000 non-null  int64         \n",
      " 15  numberAccounts              12000 non-null  int64         \n",
      " 16  multipleEmails              12000 non-null  int64         \n",
      " 17  days_since_last_session     12000 non-null  float64       \n",
      " 18  days_last-creation          12000 non-null  float64       \n",
      "dtypes: datetime64[ns](2), float64(4), int64(10), object(3)\n",
      "memory usage: 2.1+ MB\n"
     ]
    }
   ],
   "source": [
    "users.info()"
   ]
  },
  {
   "cell_type": "markdown",
   "metadata": {},
   "source": [
    "### invited_by_user_id\n"
   ]
  },
  {
   "cell_type": "markdown",
   "metadata": {},
   "source": [
    "This column is about half null.  I will create a binary column to represent if a user was invited or not"
   ]
  },
  {
   "cell_type": "code",
   "execution_count": 50,
   "metadata": {},
   "outputs": [
    {
     "data": {
      "image/png": "[encoded data removed]",
      "text/plain": [
       "<Figure size 432x288 with 1 Axes>"
      ]
     },
     "metadata": {
      "needs_background": "light"
     },
     "output_type": "display_data"
    }
   ],
   "source": [
    "users['invited'] = 1 - users.invited_by_user_id.isna()\n",
    "\n",
    "test = users.groupby('invited')['adopted'].agg(['sum','count'])\n",
    "test['adoptionRate'] = test['sum'] / test['count']\n",
    "test.plot(kind='bar',y='adoptionRate')\n",
    "plt.ylabel('Adoption Rate')\n",
    "plt.show()"
   ]
  },
  {
   "cell_type": "markdown",
   "metadata": {},
   "source": [
    "It looks like the users that were invited were a little more likely to become adopted users."
   ]
  },
  {
   "cell_type": "code",
   "execution_count": 51,
   "metadata": {},
   "outputs": [
    {
     "name": "stdout",
     "output_type": "stream",
     "text": [
      "invited chi2: 9.134, pval: 0.003\n"
     ]
    }
   ],
   "source": [
    "chi2, pval, dof, exp = chi2_contingency(pd.crosstab(users.invited,users.adopted))\n",
    "print(f'invited chi2: {chi2:.3f}, pval: {pval:.3f}')"
   ]
  },
  {
   "cell_type": "markdown",
   "metadata": {},
   "source": [
    "There is statistical evidence of an association between being invited and adoption. Does the adoption rate vary depending on the inviter?"
   ]
  },
  {
   "cell_type": "code",
   "execution_count": 52,
   "metadata": {},
   "outputs": [
    {
     "data": {
      "image/png": "[encoded data removed]",
      "text/plain": [
       "<Figure size 432x288 with 1 Axes>"
      ]
     },
     "metadata": {
      "needs_background": "light"
     },
     "output_type": "display_data"
    }
   ],
   "source": [
    "test = users.groupby('invited_by_user_id')['adopted'].agg(['sum','count'])\n",
    "test['adoptionRate'] = test['sum'] / test['count']\n",
    "test.sort_values('adoptionRate',ascending=False).plot(kind='bar',y='adoptionRate')\n",
    "plt.ylabel('Adoption Rate')\n",
    "plt.show()"
   ]
  },
  {
   "cell_type": "code",
   "execution_count": 53,
   "metadata": {},
   "outputs": [
    {
     "data": {
      "text/html": [
       "<div>\n",
       "<style scoped>\n",
       "    .dataframe tbody tr th:only-of-type {\n",
       "        vertical-align: middle;\n",
       "    }\n",
       "\n",
       "    .dataframe tbody tr th {\n",
       "        vertical-align: top;\n",
       "    }\n",
       "\n",
       "    .dataframe thead th {\n",
       "        text-align: right;\n",
       "    }\n",
       "</style>\n",
       "<table border=\"1\" class=\"dataframe\">\n",
       "  <thead>\n",
       "    <tr style=\"text-align: right;\">\n",
       "      <th></th>\n",
       "      <th>sum</th>\n",
       "      <th>count</th>\n",
       "      <th>adoptionRate</th>\n",
       "    </tr>\n",
       "    <tr>\n",
       "      <th>invited_by_user_id</th>\n",
       "      <th></th>\n",
       "      <th></th>\n",
       "      <th></th>\n",
       "    </tr>\n",
       "  </thead>\n",
       "  <tbody>\n",
       "    <tr>\n",
       "      <th>10741.0</th>\n",
       "      <td>1.0</td>\n",
       "      <td>13</td>\n",
       "      <td>0.076923</td>\n",
       "    </tr>\n",
       "    <tr>\n",
       "      <th>2527.0</th>\n",
       "      <td>2.0</td>\n",
       "      <td>12</td>\n",
       "      <td>0.166667</td>\n",
       "    </tr>\n",
       "    <tr>\n",
       "      <th>2308.0</th>\n",
       "      <td>1.0</td>\n",
       "      <td>11</td>\n",
       "      <td>0.090909</td>\n",
       "    </tr>\n",
       "    <tr>\n",
       "      <th>11770.0</th>\n",
       "      <td>1.0</td>\n",
       "      <td>11</td>\n",
       "      <td>0.090909</td>\n",
       "    </tr>\n",
       "    <tr>\n",
       "      <th>1525.0</th>\n",
       "      <td>0.0</td>\n",
       "      <td>11</td>\n",
       "      <td>0.000000</td>\n",
       "    </tr>\n",
       "    <tr>\n",
       "      <th>...</th>\n",
       "      <td>...</td>\n",
       "      <td>...</td>\n",
       "      <td>...</td>\n",
       "    </tr>\n",
       "    <tr>\n",
       "      <th>11974.0</th>\n",
       "      <td>0.0</td>\n",
       "      <td>1</td>\n",
       "      <td>0.000000</td>\n",
       "    </tr>\n",
       "    <tr>\n",
       "      <th>11978.0</th>\n",
       "      <td>0.0</td>\n",
       "      <td>1</td>\n",
       "      <td>0.000000</td>\n",
       "    </tr>\n",
       "    <tr>\n",
       "      <th>11981.0</th>\n",
       "      <td>0.0</td>\n",
       "      <td>1</td>\n",
       "      <td>0.000000</td>\n",
       "    </tr>\n",
       "    <tr>\n",
       "      <th>11986.0</th>\n",
       "      <td>0.0</td>\n",
       "      <td>1</td>\n",
       "      <td>0.000000</td>\n",
       "    </tr>\n",
       "    <tr>\n",
       "      <th>11997.0</th>\n",
       "      <td>0.0</td>\n",
       "      <td>1</td>\n",
       "      <td>0.000000</td>\n",
       "    </tr>\n",
       "  </tbody>\n",
       "</table>\n",
       "<p>2564 rows × 3 columns</p>\n",
       "</div>"
      ],
      "text/plain": [
       "                    sum  count  adoptionRate\n",
       "invited_by_user_id                          \n",
       "10741.0             1.0     13      0.076923\n",
       "2527.0              2.0     12      0.166667\n",
       "2308.0              1.0     11      0.090909\n",
       "11770.0             1.0     11      0.090909\n",
       "1525.0              0.0     11      0.000000\n",
       "...                 ...    ...           ...\n",
       "11974.0             0.0      1      0.000000\n",
       "11978.0             0.0      1      0.000000\n",
       "11981.0             0.0      1      0.000000\n",
       "11986.0             0.0      1      0.000000\n",
       "11997.0             0.0      1      0.000000\n",
       "\n",
       "[2564 rows x 3 columns]"
      ]
     },
     "execution_count": 53,
     "metadata": {},
     "output_type": "execute_result"
    }
   ],
   "source": [
    "test.sort_values(['count','adoptionRate'],ascending=False)"
   ]
  },
  {
   "cell_type": "code",
   "execution_count": 54,
   "metadata": {},
   "outputs": [
    {
     "data": {
      "image/png": "[encoded data removed]",
      "text/plain": [
       "<Figure size 432x288 with 1 Axes>"
      ]
     },
     "metadata": {
      "needs_background": "light"
     },
     "output_type": "display_data"
    }
   ],
   "source": [
    "sns.boxplot(x=test['count'], y=test['adoptionRate'])\n",
    "plt.show()"
   ]
  },
  {
   "cell_type": "code",
   "execution_count": 55,
   "metadata": {},
   "outputs": [
    {
     "data": {
      "image/png": "[encoded data removed]",
      "text/plain": [
       "<Figure size 432x288 with 1 Axes>"
      ]
     },
     "metadata": {
      "needs_background": "light"
     },
     "output_type": "display_data"
    }
   ],
   "source": [
    "test.groupby('count')['adoptionRate'].mean().plot(kind='bar')\n",
    "plt.show()"
   ]
  },
  {
   "cell_type": "code",
   "execution_count": 56,
   "metadata": {},
   "outputs": [
    {
     "data": {
      "text/plain": [
       "(29, 3)"
      ]
     },
     "execution_count": 56,
     "metadata": {},
     "output_type": "execute_result"
    }
   ],
   "source": [
    "test[test['count']>8].shape"
   ]
  },
  {
   "cell_type": "markdown",
   "metadata": {},
   "source": [
    "The adoption rate does not vary much below 8 invites, and there are only a small number of examples beyond that."
   ]
  },
  {
   "cell_type": "markdown",
   "metadata": {},
   "source": [
    "### session data\n",
    "Here I will create some new columns using the sessions data to add to the \n",
    "1. Number of sessions in first 7 days\n",
    "1. Number of sessions in first 14 days\n",
    "1. Number of sessions in first 30 days\n"
   ]
  },
  {
   "cell_type": "code",
   "execution_count": 57,
   "metadata": {
    "scrolled": false
   },
   "outputs": [
    {
     "data": {
      "text/html": [
       "<div>\n",
       "<style scoped>\n",
       "    .dataframe tbody tr th:only-of-type {\n",
       "        vertical-align: middle;\n",
       "    }\n",
       "\n",
       "    .dataframe tbody tr th {\n",
       "        vertical-align: top;\n",
       "    }\n",
       "\n",
       "    .dataframe thead th {\n",
       "        text-align: right;\n",
       "    }\n",
       "</style>\n",
       "<table border=\"1\" class=\"dataframe\">\n",
       "  <thead>\n",
       "    <tr style=\"text-align: right;\">\n",
       "      <th></th>\n",
       "      <th>time_stamp</th>\n",
       "      <th>user_id</th>\n",
       "      <th>visited</th>\n",
       "      <th>creation_time</th>\n",
       "      <th>days_since_creation</th>\n",
       "    </tr>\n",
       "  </thead>\n",
       "  <tbody>\n",
       "    <tr>\n",
       "      <th>0</th>\n",
       "      <td>2014-04-22 03:53:30</td>\n",
       "      <td>1</td>\n",
       "      <td>1</td>\n",
       "      <td>2014-04-22 03:53:30</td>\n",
       "      <td>0</td>\n",
       "    </tr>\n",
       "    <tr>\n",
       "      <th>1</th>\n",
       "      <td>2013-11-15 03:45:04</td>\n",
       "      <td>2</td>\n",
       "      <td>1</td>\n",
       "      <td>2013-11-15 03:45:04</td>\n",
       "      <td>0</td>\n",
       "    </tr>\n",
       "    <tr>\n",
       "      <th>2</th>\n",
       "      <td>2013-11-29 03:45:04</td>\n",
       "      <td>2</td>\n",
       "      <td>1</td>\n",
       "      <td>2013-11-15 03:45:04</td>\n",
       "      <td>14</td>\n",
       "    </tr>\n",
       "    <tr>\n",
       "      <th>3</th>\n",
       "      <td>2013-12-09 03:45:04</td>\n",
       "      <td>2</td>\n",
       "      <td>1</td>\n",
       "      <td>2013-11-15 03:45:04</td>\n",
       "      <td>24</td>\n",
       "    </tr>\n",
       "    <tr>\n",
       "      <th>4</th>\n",
       "      <td>2013-12-25 03:45:04</td>\n",
       "      <td>2</td>\n",
       "      <td>1</td>\n",
       "      <td>2013-11-15 03:45:04</td>\n",
       "      <td>40</td>\n",
       "    </tr>\n",
       "    <tr>\n",
       "      <th>5</th>\n",
       "      <td>2013-12-31 03:45:04</td>\n",
       "      <td>2</td>\n",
       "      <td>1</td>\n",
       "      <td>2013-11-15 03:45:04</td>\n",
       "      <td>46</td>\n",
       "    </tr>\n",
       "    <tr>\n",
       "      <th>6</th>\n",
       "      <td>2014-01-08 03:45:04</td>\n",
       "      <td>2</td>\n",
       "      <td>1</td>\n",
       "      <td>2013-11-15 03:45:04</td>\n",
       "      <td>54</td>\n",
       "    </tr>\n",
       "    <tr>\n",
       "      <th>7</th>\n",
       "      <td>2014-02-03 03:45:04</td>\n",
       "      <td>2</td>\n",
       "      <td>1</td>\n",
       "      <td>2013-11-15 03:45:04</td>\n",
       "      <td>80</td>\n",
       "    </tr>\n",
       "    <tr>\n",
       "      <th>8</th>\n",
       "      <td>2014-02-08 03:45:04</td>\n",
       "      <td>2</td>\n",
       "      <td>1</td>\n",
       "      <td>2013-11-15 03:45:04</td>\n",
       "      <td>85</td>\n",
       "    </tr>\n",
       "    <tr>\n",
       "      <th>9</th>\n",
       "      <td>2014-02-09 03:45:04</td>\n",
       "      <td>2</td>\n",
       "      <td>1</td>\n",
       "      <td>2013-11-15 03:45:04</td>\n",
       "      <td>86</td>\n",
       "    </tr>\n",
       "  </tbody>\n",
       "</table>\n",
       "</div>"
      ],
      "text/plain": [
       "           time_stamp  user_id  visited       creation_time  \\\n",
       "0 2014-04-22 03:53:30        1        1 2014-04-22 03:53:30   \n",
       "1 2013-11-15 03:45:04        2        1 2013-11-15 03:45:04   \n",
       "2 2013-11-29 03:45:04        2        1 2013-11-15 03:45:04   \n",
       "3 2013-12-09 03:45:04        2        1 2013-11-15 03:45:04   \n",
       "4 2013-12-25 03:45:04        2        1 2013-11-15 03:45:04   \n",
       "5 2013-12-31 03:45:04        2        1 2013-11-15 03:45:04   \n",
       "6 2014-01-08 03:45:04        2        1 2013-11-15 03:45:04   \n",
       "7 2014-02-03 03:45:04        2        1 2013-11-15 03:45:04   \n",
       "8 2014-02-08 03:45:04        2        1 2013-11-15 03:45:04   \n",
       "9 2014-02-09 03:45:04        2        1 2013-11-15 03:45:04   \n",
       "\n",
       "   days_since_creation  \n",
       "0                    0  \n",
       "1                    0  \n",
       "2                   14  \n",
       "3                   24  \n",
       "4                   40  \n",
       "5                   46  \n",
       "6                   54  \n",
       "7                   80  \n",
       "8                   85  \n",
       "9                   86  "
      ]
     },
     "execution_count": 57,
     "metadata": {},
     "output_type": "execute_result"
    }
   ],
   "source": [
    "engagement = engagement.merge(users[['user_id','creation_time']],how='left',left_on='user_id',right_on='user_id',validate='m:1')\n",
    "engagement['days_since_creation'] = (engagement.time_stamp - engagement.creation_time).dt.days\n",
    "engagement.head(10)"
   ]
  },
  {
   "cell_type": "code",
   "execution_count": 58,
   "metadata": {},
   "outputs": [
    {
     "data": {
      "image/png": "[encoded data removed]",
      "text/plain": [
       "<Figure size 432x288 with 1 Axes>"
      ]
     },
     "metadata": {
      "needs_background": "light"
     },
     "output_type": "display_data"
    }
   ],
   "source": [
    "engagement.days_since_creation.hist()\n",
    "plt.ylabel('Count')\n",
    "plt.xlabel('days since creation')\n",
    "plt.show()"
   ]
  },
  {
   "cell_type": "code",
   "execution_count": 59,
   "metadata": {},
   "outputs": [
    {
     "name": "stdout",
     "output_type": "stream",
     "text": [
      "<class 'pandas.core.frame.DataFrame'>\n",
      "Int64Index: 12000 entries, 0 to 11999\n",
      "Data columns (total 23 columns):\n",
      " #   Column                      Non-Null Count  Dtype         \n",
      "---  ------                      --------------  -----         \n",
      " 0   user_id                     12000 non-null  int64         \n",
      " 1   creation_time               12000 non-null  datetime64[ns]\n",
      " 2   name                        12000 non-null  object        \n",
      " 3   email                       12000 non-null  object        \n",
      " 4   creation_source             12000 non-null  object        \n",
      " 5   last_session_creation_time  8823 non-null   datetime64[ns]\n",
      " 6   opted_in_to_mailing_list    12000 non-null  int64         \n",
      " 7   enabled_for_marketing_drip  12000 non-null  int64         \n",
      " 8   org_id                      12000 non-null  int64         \n",
      " 9   invited_by_user_id          6417 non-null   float64       \n",
      " 10  adopted                     12000 non-null  float64       \n",
      " 11  creation_month              12000 non-null  int64         \n",
      " 12  creation_dow                12000 non-null  int64         \n",
      " 13  creation_hour               12000 non-null  int64         \n",
      " 14  multipleAccounts            12000 non-null  int64         \n",
      " 15  numberAccounts              12000 non-null  int64         \n",
      " 16  multipleEmails              12000 non-null  int64         \n",
      " 17  days_since_last_session     12000 non-null  float64       \n",
      " 18  days_last-creation          12000 non-null  float64       \n",
      " 19  invited                     12000 non-null  int32         \n",
      " 20  sessions_first_7days        12000 non-null  float64       \n",
      " 21  sessions_first_14days       12000 non-null  float64       \n",
      " 22  sessions_first_30days       12000 non-null  float64       \n",
      "dtypes: datetime64[ns](2), float64(7), int32(1), int64(10), object(3)\n",
      "memory usage: 2.4+ MB\n"
     ]
    }
   ],
   "source": [
    "for d in [7,14,30]:\n",
    "    dum = engagement[engagement.days_since_creation<=d].groupby('user_id')['visited'].count()\n",
    "    dum.name = 'sessions_first_'+str(d)+'days'\n",
    "    users = users.merge(dum,how='left',left_on='user_id',right_index=True,validate='1:1')\n",
    "    users['sessions_first_'+str(d)+'days'] = users['sessions_first_'+str(d)+'days'].fillna(0)\n",
    "users.info()"
   ]
  },
  {
   "cell_type": "code",
   "execution_count": 60,
   "metadata": {
    "scrolled": false
   },
   "outputs": [
    {
     "data": {
      "image/png": "[encoded data removed]",
      "text/plain": [
       "<Figure size 432x288 with 2 Axes>"
      ]
     },
     "metadata": {
      "needs_background": "light"
     },
     "output_type": "display_data"
    },
    {
     "data": {
      "image/png": "[encoded data removed]",
      "text/plain": [
       "<Figure size 432x288 with 2 Axes>"
      ]
     },
     "metadata": {
      "needs_background": "light"
     },
     "output_type": "display_data"
    },
    {
     "data": {
      "image/png": "[encoded data removed]",
      "text/plain": [
       "<Figure size 432x288 with 2 Axes>"
      ]
     },
     "metadata": {
      "needs_background": "light"
     },
     "output_type": "display_data"
    }
   ],
   "source": [
    "for d in [7,14,30]:\n",
    "    \n",
    "    test = users.groupby('sessions_first_'+str(d)+'days')['adopted'].agg(['sum','count'])\n",
    "    test['adoptionRate'] = test['sum'] / test['count']\n",
    "    width=.4\n",
    "    fig,ax = plt.subplots(1,1)\n",
    "    test.plot(kind='bar',y='adoptionRate',ax=ax,position=1,\\\n",
    "              width=width)\n",
    "    test.plot(kind='bar',y='count',ax=ax,secondary_y=True,\\\n",
    "              position=0,color='red',width=width)\n",
    "    plt.ylabel('Adoption Rate')\n",
    "    plt.show()\n",
    "    "
   ]
  },
  {
   "cell_type": "markdown",
   "metadata": {},
   "source": [
    "Very interesting.  These plots indicate that a users sessions in the first 7, 14, and 30 days is highly correlative to whether the user is adopted.  I will proceed with the `sessions_first_14days` for modelling."
   ]
  },
  {
   "cell_type": "markdown",
   "metadata": {},
   "source": [
    "Done with analysis.  Now I will create a quick classifier model and to see what is feature is most important for prediciting association.  "
   ]
  },
  {
   "cell_type": "markdown",
   "metadata": {},
   "source": [
    "### Feature Engineering\n",
    "I created some new features above, but here I will encode the categorical columns. Then I will calculate information value and collinearity before moving to modelling.  "
   ]
  },
  {
   "cell_type": "code",
   "execution_count": 61,
   "metadata": {},
   "outputs": [
    {
     "name": "stdout",
     "output_type": "stream",
     "text": [
      "<class 'pandas.core.frame.DataFrame'>\n",
      "Int64Index: 12000 entries, 0 to 11999\n",
      "Data columns (total 23 columns):\n",
      " #   Column                      Non-Null Count  Dtype         \n",
      "---  ------                      --------------  -----         \n",
      " 0   user_id                     12000 non-null  int64         \n",
      " 1   creation_time               12000 non-null  datetime64[ns]\n",
      " 2   name                        12000 non-null  object        \n",
      " 3   email                       12000 non-null  object        \n",
      " 4   creation_source             12000 non-null  object        \n",
      " 5   last_session_creation_time  8823 non-null   datetime64[ns]\n",
      " 6   opted_in_to_mailing_list    12000 non-null  int64         \n",
      " 7   enabled_for_marketing_drip  12000 non-null  int64         \n",
      " 8   org_id                      12000 non-null  int64         \n",
      " 9   invited_by_user_id          6417 non-null   float64       \n",
      " 10  adopted                     12000 non-null  float64       \n",
      " 11  creation_month              12000 non-null  int64         \n",
      " 12  creation_dow                12000 non-null  int64         \n",
      " 13  creation_hour               12000 non-null  int64         \n",
      " 14  multipleAccounts            12000 non-null  int64         \n",
      " 15  numberAccounts              12000 non-null  int64         \n",
      " 16  multipleEmails              12000 non-null  int64         \n",
      " 17  days_since_last_session     12000 non-null  float64       \n",
      " 18  days_last-creation          12000 non-null  float64       \n",
      " 19  invited                     12000 non-null  int32         \n",
      " 20  sessions_first_7days        12000 non-null  float64       \n",
      " 21  sessions_first_14days       12000 non-null  float64       \n",
      " 22  sessions_first_30days       12000 non-null  float64       \n",
      "dtypes: datetime64[ns](2), float64(7), int32(1), int64(10), object(3)\n",
      "memory usage: 2.4+ MB\n"
     ]
    }
   ],
   "source": [
    "users.info()"
   ]
  },
  {
   "cell_type": "markdown",
   "metadata": {},
   "source": [
    "Firstly one hot encoding of the different categories of `creation_source` (5 categories)."
   ]
  },
  {
   "cell_type": "code",
   "execution_count": 62,
   "metadata": {},
   "outputs": [],
   "source": [
    "users = pd.get_dummies(users,columns=['creation_source'],prefix='source')"
   ]
  },
  {
   "cell_type": "markdown",
   "metadata": {},
   "source": [
    "Now one hot encoding of the `org_id` (417 unique orgs)."
   ]
  },
  {
   "cell_type": "raw",
   "metadata": {},
   "source": [
    "### one hot encode all organizations\n",
    "import category_encoders as ce\n",
    "onehot = ce.OneHotEncoder(cols=['org_id'])\n",
    "X = users\n",
    "y = users[['adopted']]\n",
    "onehot.fit(X,y)\n",
    "users = onehot.transform(X)\n",
    "users.shape"
   ]
  },
  {
   "cell_type": "markdown",
   "metadata": {},
   "source": [
    "hashing `org_id` into 8 columns"
   ]
  },
  {
   "cell_type": "code",
   "execution_count": 63,
   "metadata": {},
   "outputs": [
    {
     "name": "stderr",
     "output_type": "stream",
     "text": [
      "C:\\Users\\blain\\Anaconda3\\lib\\site-packages\\category_encoders\\utils.py:21: FutureWarning: is_categorical is deprecated and will be removed in a future version.  Use is_categorical_dtype instead\n",
      "  elif pd.api.types.is_categorical(cols):\n"
     ]
    }
   ],
   "source": [
    "### for hashing 'org_id', fewer columns but some collisions\n",
    "import category_encoders as ce\n",
    "hashing = ce.HashingEncoder(cols=['org_id'],n_components=8)\n",
    "X = users\n",
    "y = users[['adopted']]\n",
    "hashing.fit(X,y)\n",
    "users = hashing.transform(X)\n",
    "newcols = [j for j in users.columns if j.startswith('col_')]\n",
    "mapper = {k:'org_id_'+k[-1] for k in newcols}\n",
    "users = users.rename(columns=mapper)"
   ]
  },
  {
   "cell_type": "code",
   "execution_count": 64,
   "metadata": {},
   "outputs": [
    {
     "data": {
      "text/plain": [
       "(12000, 34)"
      ]
     },
     "execution_count": 64,
     "metadata": {},
     "output_type": "execute_result"
    }
   ],
   "source": [
    "users.shape"
   ]
  },
  {
   "cell_type": "code",
   "execution_count": 65,
   "metadata": {},
   "outputs": [
    {
     "name": "stdout",
     "output_type": "stream",
     "text": [
      "<class 'pandas.core.frame.DataFrame'>\n",
      "RangeIndex: 12000 entries, 0 to 11999\n",
      "Data columns (total 34 columns):\n",
      " #   Column                      Non-Null Count  Dtype         \n",
      "---  ------                      --------------  -----         \n",
      " 0   org_id_0                    12000 non-null  int64         \n",
      " 1   org_id_1                    12000 non-null  int64         \n",
      " 2   org_id_2                    12000 non-null  int64         \n",
      " 3   org_id_3                    12000 non-null  int64         \n",
      " 4   org_id_4                    12000 non-null  int64         \n",
      " 5   org_id_5                    12000 non-null  int64         \n",
      " 6   org_id_6                    12000 non-null  int64         \n",
      " 7   org_id_7                    12000 non-null  int64         \n",
      " 8   user_id                     12000 non-null  int64         \n",
      " 9   creation_time               12000 non-null  datetime64[ns]\n",
      " 10  name                        12000 non-null  object        \n",
      " 11  email                       12000 non-null  object        \n",
      " 12  last_session_creation_time  8823 non-null   datetime64[ns]\n",
      " 13  opted_in_to_mailing_list    12000 non-null  int64         \n",
      " 14  enabled_for_marketing_drip  12000 non-null  int64         \n",
      " 15  invited_by_user_id          6417 non-null   float64       \n",
      " 16  adopted                     12000 non-null  float64       \n",
      " 17  creation_month              12000 non-null  int64         \n",
      " 18  creation_dow                12000 non-null  int64         \n",
      " 19  creation_hour               12000 non-null  int64         \n",
      " 20  multipleAccounts            12000 non-null  int64         \n",
      " 21  numberAccounts              12000 non-null  int64         \n",
      " 22  multipleEmails              12000 non-null  int64         \n",
      " 23  days_since_last_session     12000 non-null  float64       \n",
      " 24  days_last-creation          12000 non-null  float64       \n",
      " 25  invited                     12000 non-null  int32         \n",
      " 26  sessions_first_7days        12000 non-null  float64       \n",
      " 27  sessions_first_14days       12000 non-null  float64       \n",
      " 28  sessions_first_30days       12000 non-null  float64       \n",
      " 29  source_GUEST_INVITE         12000 non-null  uint8         \n",
      " 30  source_ORG_INVITE           12000 non-null  uint8         \n",
      " 31  source_PERSONAL_PROJECTS    12000 non-null  uint8         \n",
      " 32  source_SIGNUP               12000 non-null  uint8         \n",
      " 33  source_SIGNUP_GOOGLE_AUTH   12000 non-null  uint8         \n",
      "dtypes: datetime64[ns](2), float64(7), int32(1), int64(17), object(2), uint8(5)\n",
      "memory usage: 2.7+ MB\n"
     ]
    }
   ],
   "source": [
    "users.info()"
   ]
  },
  {
   "cell_type": "markdown",
   "metadata": {},
   "source": [
    "Function for calculating information value for each feature."
   ]
  },
  {
   "cell_type": "code",
   "execution_count": 66,
   "metadata": {},
   "outputs": [],
   "source": [
    "### Function to calculate the Information Value (IV) of each feature\n",
    "### \n",
    "\n",
    "\n",
    "max_bin = 20\n",
    "force_bin = 3\n",
    "import pandas.core.algorithms as algos\n",
    "import scipy.stats.stats as stats\n",
    "import re\n",
    "\n",
    "\n",
    "# define a binning function\n",
    "### this function is for binning and calculating the Weight of Evidence \n",
    "### for the target and the Information Value for the feature\n",
    "### and the In\n",
    "def mono_bin(Y, X, n = max_bin):    \n",
    "    ### create new dataframe of series feature and series y\n",
    "    df1 = pd.DataFrame({\"X\": X, \"Y\": Y})\n",
    "    \n",
    "    ### check to see if any nulls in feature and seperate nulls out\n",
    "    justmiss = df1[['X','Y']][df1.X.isnull()]\n",
    "    notmiss = df1[['X','Y']][df1.X.notnull()]\n",
    "    #print(\"justmiss\", justmiss)\n",
    "    #print(\"notmiss\", notmiss)\n",
    "    \n",
    "    \n",
    "    ### while loop until Spearman correlation coefficient is between [-1,1]\n",
    "    ### Finding minumum bin size that results in 'abs(r)' of >1???\n",
    "    \n",
    "    r = 0\n",
    "    while np.abs(r) < 1:\n",
    "        ### Try creation of new dataframe with max or less bin size 'n'\n",
    "        ### create dataframe with feature, target and binned feature \n",
    "        ### create 'd2' group by object on 'Bucket'\n",
    "        ### calculate Spearman correlation 'r' and p-value from mean of feature and target\n",
    "        ### If exception reduce bin number by one and try again\n",
    "        ### Effectively finding the max bin number that can be used \n",
    "        ### for calculating WOE\n",
    "        try:\n",
    "            d1 = pd.DataFrame({\"X\": notmiss.X, \"Y\": notmiss.Y,\\\n",
    "                               \"Bucket\": pd.qcut(notmiss.X, n)})\n",
    "            d2 = d1.groupby('Bucket', as_index=True)\n",
    "                             \n",
    "            r, p = stats.spearmanr(d2.mean().X, d2.mean().Y)\n",
    "            #print(\"I am here 1\",r, n,len(d2))\n",
    "            n = n - 1 \n",
    "            \n",
    "            \n",
    "        except Exception as e:\n",
    "            n = n - 1\n",
    "            #print(\"I am here e\",n)\n",
    "\n",
    "    ### If length of d2 is 1 (ie 1 bucket for all of feature) do this\n",
    "    if len(d2) == 1:\n",
    "        #print(\"I am second step \",r, n)\n",
    "        \n",
    "        ### force 'n' to 3 and calculate quantiles of feature from (0,0.5,1) \n",
    "        ### to be used as bins, if not 3 unique because of heavily skewed data\n",
    "        ### manually create bin\n",
    "        n = force_bin         \n",
    "        bins = algos.quantile(notmiss.X, np.linspace(0, 1, n))\n",
    "        if len(np.unique(bins)) == 2:\n",
    "            bins = np.insert(bins, 0, 1)\n",
    "            bins[1] = bins[1]-(bins[1]/2)\n",
    "            \n",
    "        ### Create new dataframe bucketed by manual bins\n",
    "        d1 = pd.DataFrame({\"X\": notmiss.X, \"Y\": notmiss.Y, \"Bucket\": pd.cut(notmiss.X, np.unique(bins),include_lowest=True)}) \n",
    "        d2 = d1.groupby('Bucket', as_index=True)\n",
    "    \n",
    "    ### Create new dataframe from aggregating the binned dataframe\n",
    "    d3 = pd.DataFrame({},index=[])\n",
    "    d3[\"MIN_VALUE\"] = d2.min().X\n",
    "    d3[\"MAX_VALUE\"] = d2.max().X\n",
    "    d3[\"COUNT\"] = d2.count().Y\n",
    "    d3[\"EVENT\"] = d2.sum().Y\n",
    "    d3[\"NONEVENT\"] = d2.count().Y - d2.sum().Y\n",
    "    d3=d3.reset_index(drop=True)\n",
    "    \n",
    "    if len(justmiss.index) > 0:\n",
    "        d4 = pd.DataFrame({'MIN_VALUE':np.nan},index=[0])\n",
    "        d4[\"MAX_VALUE\"] = np.nan\n",
    "        #print(justmiss.count().Y)\n",
    "        d4[\"COUNT\"] = justmiss.count().Y\n",
    "        d4[\"EVENT\"] = justmiss.sum().Y\n",
    "        d4[\"NONEVENT\"] = justmiss.count().Y - justmiss.sum().Y\n",
    "        d3 = d3.append(d4,ignore_index=True)\n",
    "    \n",
    "    ### add more features to d3 describing the 'events' of the target\n",
    "    d3[\"EVENT_RATE\"] = d3.EVENT/d3.COUNT\n",
    "    d3[\"NON_EVENT_RATE\"] = d3.NONEVENT/d3.COUNT\n",
    "    d3[\"DIST_EVENT\"] = d3.EVENT/d3.sum().EVENT\n",
    "    d3[\"DIST_NON_EVENT\"] = d3.NONEVENT/d3.sum().NONEVENT\n",
    "    print(np.log(d3.DIST_EVENT/d3.DIST_NON_EVENT))\n",
    "    d3[\"WOE\"] = np.log(d3.DIST_EVENT/d3.DIST_NON_EVENT)\n",
    "    d3[\"IV\"] = (d3.DIST_EVENT-d3.DIST_NON_EVENT)*np.log(d3.DIST_EVENT/d3.DIST_NON_EVENT)\n",
    "    d3[\"VAR_NAME\"] = \"VAR\"\n",
    "    d3 = d3[['VAR_NAME','MIN_VALUE', 'MAX_VALUE', 'COUNT', 'EVENT', 'EVENT_RATE', 'NONEVENT', 'NON_EVENT_RATE', 'DIST_EVENT','DIST_NON_EVENT','WOE', 'IV']]       \n",
    "    d3 = d3.replace([np.inf, -np.inf], 0)\n",
    "    d3.IV = d3.IV.sum()\n",
    "    \n",
    "    return(d3)\n",
    "\n",
    "def char_bin(Y, X):\n",
    "        \n",
    "    df1 = pd.DataFrame({\"X\": X, \"Y\": Y})\n",
    "    justmiss = df1[['X','Y']][df1.X.isnull()]\n",
    "    notmiss = df1[['X','Y']][df1.X.notnull()]    \n",
    "    df2 = notmiss.groupby('X',as_index=True)\n",
    "    d3 = pd.DataFrame({},index=[])\n",
    "    d3[\"COUNT\"] = df2.count().Y\n",
    "    d3[\"MIN_VALUE\"] = df2.sum().Y.index\n",
    "    d3[\"MAX_VALUE\"] = d3[\"MIN_VALUE\"]\n",
    "    d3[\"EVENT\"] = df2.sum().Y\n",
    "    d3[\"NONEVENT\"] = df2.count().Y - df2.sum().Y\n",
    "    \n",
    "    if len(justmiss.index) > 0:\n",
    "        d4 = pd.DataFrame({'MIN_VALUE':np.nan},index=[0])\n",
    "        d4[\"MAX_VALUE\"] = np.nan\n",
    "        d4[\"COUNT\"] = justmiss.count().Y\n",
    "        d4[\"EVENT\"] = justmiss.sum().Y\n",
    "        d4[\"NONEVENT\"] = justmiss.count().Y - justmiss.sum().Y\n",
    "        d3 = d3.append(d4,ignore_index=True)\n",
    "    \n",
    "    d3[\"EVENT_RATE\"] = d3.EVENT/d3.COUNT\n",
    "    d3[\"NON_EVENT_RATE\"] = d3.NONEVENT/d3.COUNT\n",
    "    d3[\"DIST_EVENT\"] = d3.EVENT/d3.sum().EVENT\n",
    "    d3[\"DIST_NON_EVENT\"] = d3.NONEVENT/d3.sum().NONEVENT\n",
    "    d3[\"WOE\"] = np.log(d3.DIST_EVENT/d3.DIST_NON_EVENT)\n",
    "    d3[\"IV\"] = (d3.DIST_EVENT-d3.DIST_NON_EVENT)*np.log(d3.DIST_EVENT/d3.DIST_NON_EVENT)\n",
    "    d3[\"VAR_NAME\"] = \"VAR\"\n",
    "    d3 = d3[['VAR_NAME','MIN_VALUE', 'MAX_VALUE', 'COUNT', 'EVENT', 'EVENT_RATE', 'NONEVENT', 'NON_EVENT_RATE', 'DIST_EVENT','DIST_NON_EVENT','WOE', 'IV']]      \n",
    "    d3 = d3.replace([np.inf, -np.inf], 0)\n",
    "    d3.IV = d3.IV.sum()\n",
    "    #print(\"hi\",d3.IV )\n",
    "    d3 = d3.reset_index(drop=True)\n",
    "    \n",
    "    return(d3)\n",
    "\n",
    "def data_vars(df1, target):\n",
    "    import traceback\n",
    "    \n",
    "    \n",
    "    ### Extract raw traceback from error in one of the two sub functions\n",
    "    ### assign traceback elemnts to variables\n",
    "    stack = traceback.extract_stack()\n",
    "    filename, lineno, function_name, code = stack[-2]\n",
    "    \n",
    "    \n",
    "    \n",
    "    ###\n",
    "    vars_name = re.compile(r'\\((.*?)\\).*$').search(code).groups()[0]\n",
    "    final = (re.findall(r\"[\\w']+\", vars_name))[-1]\n",
    "    \n",
    "    \n",
    "    ### get column names from df1\n",
    "    x = df1.dtypes.index\n",
    "    \n",
    "    count = -1\n",
    "    ### Loop through columns\n",
    "    for i in x:\n",
    "        print(i)\n",
    "        if i.upper() not in (final.upper()):\n",
    "            ### test if numeric and not a one-hot encoding\n",
    "            if np.issubdtype(df1[i], np.number) and len(pd.Series.unique(df1[i])) > 2:\n",
    "                #print(\"Number and unique value greater than 2\")\n",
    "                ###  pass target and feature to 'mono_bin'\n",
    "                conv = mono_bin(target, df1[i])\n",
    "                \n",
    "                ### assign feature name to 'conv'\n",
    "                conv[\"VAR_NAME\"] = i\n",
    "                count = count + 1\n",
    "            else:\n",
    "                #print(\"I am here 2\")\n",
    "                ###  pass target and feature to 'char_bin'\n",
    "                conv = char_bin(target, df1[i])\n",
    "                conv[\"VAR_NAME\"] = i            \n",
    "                count = count + 1\n",
    "\n",
    "            ### First time run through the loop where count==0,\n",
    "            ### create new df from current\n",
    "            if count == 0:\n",
    "                iv_df = conv\n",
    "            ### on subsequent loops append rows to bottom of 'iv_df'\n",
    "            ### of next feature and scoring calcs\n",
    "            else:\n",
    "                iv_df = iv_df.append(conv,ignore_index=True)\n",
    "    ### aggregate 'iv_df' taking the maximum ?correlation? score \n",
    "    ### for each feature and creating a new summary df with columns \n",
    "    ### 'VAR_NAME' & 'IV'\n",
    "    iv = pd.DataFrame({'IV':iv_df.groupby('VAR_NAME').IV.max()})\n",
    "    iv = iv.reset_index()\n",
    "    ### return detailed df with all computed features\n",
    "    ### and summary of only max values and feature names\n",
    "    return(iv_df,iv)"
   ]
  },
  {
   "cell_type": "code",
   "execution_count": 67,
   "metadata": {
    "scrolled": true
   },
   "outputs": [
    {
     "name": "stdout",
     "output_type": "stream",
     "text": [
      "org_id_0\n",
      "org_id_1\n",
      "org_id_2\n",
      "org_id_3\n",
      "org_id_4\n",
      "org_id_5\n",
      "org_id_6\n",
      "org_id_7\n",
      "opted_in_to_mailing_list\n",
      "enabled_for_marketing_drip\n",
      "creation_month\n",
      "0   -0.154135\n",
      "1    0.167970\n",
      "dtype: float64\n",
      "creation_dow\n",
      "0   -0.006978\n",
      "1    0.009259\n",
      "dtype: float64\n",
      "creation_hour\n",
      "0   -0.005361\n",
      "1    0.006311\n",
      "dtype: float64\n",
      "multipleAccounts\n",
      "numberAccounts\n",
      "0    0.003958\n",
      "1   -0.035544\n",
      "dtype: float64\n",
      "multipleEmails\n",
      "invited\n",
      "sessions_first_7days\n",
      "0   -0.438704\n",
      "1    2.622081\n",
      "dtype: float64\n",
      "sessions_first_14days\n",
      "0   -0.847047\n",
      "1    2.462011\n",
      "dtype: float64\n",
      "sessions_first_30days\n",
      "0   -1.809593\n",
      "1    2.343064\n",
      "dtype: float64\n",
      "source_GUEST_INVITE\n",
      "source_ORG_INVITE\n",
      "source_PERSONAL_PROJECTS\n",
      "source_SIGNUP\n",
      "source_SIGNUP_GOOGLE_AUTH\n"
     ]
    }
   ],
   "source": [
    "X = users.drop(['user_id','creation_time','name','email','last_session_creation_time','invited_by_user_id','days_since_last_session','days_last-creation','adopted'],axis=1)\n",
    "y = users['adopted']\n",
    "iv_df, iv = data_vars(X, y)"
   ]
  },
  {
   "cell_type": "code",
   "execution_count": 68,
   "metadata": {},
   "outputs": [
    {
     "data": {
      "text/html": [
       "<div>\n",
       "<style scoped>\n",
       "    .dataframe tbody tr th:only-of-type {\n",
       "        vertical-align: middle;\n",
       "    }\n",
       "\n",
       "    .dataframe tbody tr th {\n",
       "        vertical-align: top;\n",
       "    }\n",
       "\n",
       "    .dataframe thead th {\n",
       "        text-align: right;\n",
       "    }\n",
       "</style>\n",
       "<table border=\"1\" class=\"dataframe\">\n",
       "  <thead>\n",
       "    <tr style=\"text-align: right;\">\n",
       "      <th></th>\n",
       "      <th>VAR_NAME</th>\n",
       "      <th>IV</th>\n",
       "    </tr>\n",
       "  </thead>\n",
       "  <tbody>\n",
       "    <tr>\n",
       "      <th>18</th>\n",
       "      <td>sessions_first_30days</td>\n",
       "      <td>3.189425</td>\n",
       "    </tr>\n",
       "    <tr>\n",
       "      <th>17</th>\n",
       "      <td>sessions_first_14days</td>\n",
       "      <td>1.794947</td>\n",
       "    </tr>\n",
       "    <tr>\n",
       "      <th>19</th>\n",
       "      <td>sessions_first_7days</td>\n",
       "      <td>1.057549</td>\n",
       "    </tr>\n",
       "    <tr>\n",
       "      <th>22</th>\n",
       "      <td>source_PERSONAL_PROJECTS</td>\n",
       "      <td>0.057537</td>\n",
       "    </tr>\n",
       "    <tr>\n",
       "      <th>2</th>\n",
       "      <td>creation_month</td>\n",
       "      <td>0.025834</td>\n",
       "    </tr>\n",
       "    <tr>\n",
       "      <th>20</th>\n",
       "      <td>source_GUEST_INVITE</td>\n",
       "      <td>0.015421</td>\n",
       "    </tr>\n",
       "    <tr>\n",
       "      <th>24</th>\n",
       "      <td>source_SIGNUP_GOOGLE_AUTH</td>\n",
       "      <td>0.010157</td>\n",
       "    </tr>\n",
       "    <tr>\n",
       "      <th>4</th>\n",
       "      <td>invited</td>\n",
       "      <td>0.006547</td>\n",
       "    </tr>\n",
       "    <tr>\n",
       "      <th>11</th>\n",
       "      <td>org_id_2</td>\n",
       "      <td>0.005184</td>\n",
       "    </tr>\n",
       "    <tr>\n",
       "      <th>12</th>\n",
       "      <td>org_id_3</td>\n",
       "      <td>0.004668</td>\n",
       "    </tr>\n",
       "  </tbody>\n",
       "</table>\n",
       "</div>"
      ],
      "text/plain": [
       "                     VAR_NAME        IV\n",
       "18      sessions_first_30days  3.189425\n",
       "17      sessions_first_14days  1.794947\n",
       "19       sessions_first_7days  1.057549\n",
       "22   source_PERSONAL_PROJECTS  0.057537\n",
       "2              creation_month  0.025834\n",
       "20        source_GUEST_INVITE  0.015421\n",
       "24  source_SIGNUP_GOOGLE_AUTH  0.010157\n",
       "4                     invited  0.006547\n",
       "11                   org_id_2  0.005184\n",
       "12                   org_id_3  0.004668"
      ]
     },
     "execution_count": 68,
     "metadata": {},
     "output_type": "execute_result"
    }
   ],
   "source": [
    "iv = iv.sort_values('IV',ascending=False)\n",
    "iv.head(10)"
   ]
  },
  {
   "cell_type": "code",
   "execution_count": 69,
   "metadata": {},
   "outputs": [],
   "source": [
    "features = list(iv.loc[iv.IV>0.01,'VAR_NAME'])\n",
    "X2 = X[features]"
   ]
  },
  {
   "cell_type": "markdown",
   "metadata": {},
   "source": [
    "Now dropping columns based on multicollinearity"
   ]
  },
  {
   "cell_type": "code",
   "execution_count": 70,
   "metadata": {},
   "outputs": [],
   "source": [
    "from statsmodels.stats.outliers_influence import variance_inflation_factor\n",
    "\n",
    "def iterate_vif(df, vif_threshold=5, max_vif=6):\n",
    "    count = 0\n",
    "    while max_vif > vif_threshold:\n",
    "        count += 1\n",
    "        print(\"Iteration # \"+str(count))\n",
    "        \n",
    "        ### Create data frame with features column and \n",
    "        ### variance inflation factor column\n",
    "        vif = pd.DataFrame()\n",
    "        vif[\"VIFactor\"] = [variance_inflation_factor(df.values, i) for i in range(df.shape[1])]\n",
    "        vif[\"features\"] = df.columns\n",
    "        \n",
    "        \n",
    "        \n",
    "        if vif['VIFactor'].max() > vif_threshold:\n",
    "            print('Removing %s with VIF of %f' % (vif[vif['VIFactor'] == vif['VIFactor'].max()]['features'].values[0], vif['VIFactor'].max()))\n",
    "            df = df.drop(vif[vif['VIFactor'] == vif['VIFactor'].max()]['features'].values[0], axis=1)\n",
    "            max_vif = vif['VIFactor'].max()\n",
    "            #if count==45:\n",
    "                #print('early stop for plotting intermediate step')\n",
    "                #return df, vif.sort_values('VIFactor')  \n",
    "        else:\n",
    "            print('Complete')\n",
    "            return df, vif.sort_values('VIFactor')  \n"
   ]
  },
  {
   "cell_type": "code",
   "execution_count": 71,
   "metadata": {},
   "outputs": [
    {
     "name": "stdout",
     "output_type": "stream",
     "text": [
      "Iteration # 1\n",
      "Removing sessions_first_14days with VIF of 23.376329\n",
      "Iteration # 2\n",
      "Removing sessions_first_7days with VIF of 5.647840\n",
      "Iteration # 3\n",
      "Complete\n"
     ]
    }
   ],
   "source": [
    "final_df, final_vif = iterate_vif(X2._get_numeric_data())"
   ]
  },
  {
   "cell_type": "code",
   "execution_count": 72,
   "metadata": {},
   "outputs": [
    {
     "name": "stdout",
     "output_type": "stream",
     "text": [
      "<class 'pandas.core.frame.DataFrame'>\n",
      "RangeIndex: 12000 entries, 0 to 11999\n",
      "Data columns (total 5 columns):\n",
      " #   Column                     Non-Null Count  Dtype  \n",
      "---  ------                     --------------  -----  \n",
      " 0   sessions_first_30days      12000 non-null  float64\n",
      " 1   source_PERSONAL_PROJECTS   12000 non-null  uint8  \n",
      " 2   creation_month             12000 non-null  int64  \n",
      " 3   source_GUEST_INVITE        12000 non-null  uint8  \n",
      " 4   source_SIGNUP_GOOGLE_AUTH  12000 non-null  uint8  \n",
      "dtypes: float64(1), int64(1), uint8(3)\n",
      "memory usage: 222.8 KB\n"
     ]
    }
   ],
   "source": [
    "final_df.info()"
   ]
  },
  {
   "cell_type": "markdown",
   "metadata": {},
   "source": [
    "Ready for modelling"
   ]
  },
  {
   "cell_type": "markdown",
   "metadata": {},
   "source": [
    "## Modelling\n",
    "- I will only use features that are available on sign up or shortly there after for predicting future user adoption. \n",
    "- Apply Random Forest classifier for prediction adoption\n",
    "- Evaluate feature importance"
   ]
  },
  {
   "cell_type": "code",
   "execution_count": 73,
   "metadata": {},
   "outputs": [],
   "source": [
    "rand_seed=33"
   ]
  },
  {
   "cell_type": "code",
   "execution_count": 74,
   "metadata": {},
   "outputs": [
    {
     "name": "stdout",
     "output_type": "stream",
     "text": [
      "<class 'pandas.core.frame.DataFrame'>\n",
      "RangeIndex: 12000 entries, 0 to 11999\n",
      "Data columns (total 5 columns):\n",
      " #   Column                     Non-Null Count  Dtype  \n",
      "---  ------                     --------------  -----  \n",
      " 0   sessions_first_30days      12000 non-null  float64\n",
      " 1   source_PERSONAL_PROJECTS   12000 non-null  uint8  \n",
      " 2   creation_month             12000 non-null  int64  \n",
      " 3   source_GUEST_INVITE        12000 non-null  uint8  \n",
      " 4   source_SIGNUP_GOOGLE_AUTH  12000 non-null  uint8  \n",
      "dtypes: float64(1), int64(1), uint8(3)\n",
      "memory usage: 222.8 KB\n"
     ]
    }
   ],
   "source": [
    "final_df.info()"
   ]
  },
  {
   "cell_type": "code",
   "execution_count": 75,
   "metadata": {},
   "outputs": [
    {
     "data": {
      "image/png": "[encoded data removed]",
      "text/plain": [
       "<Figure size 576x288 with 2 Axes>"
      ]
     },
     "metadata": {
      "needs_background": "light"
     },
     "output_type": "display_data"
    }
   ],
   "source": [
    "#X_labels = ['creation_month','creation_hour','source_GUEST_INVITE',\\\n",
    "#            'source_ORG_INVITE','source_PERSONAL_PROJECTS','source_SIGNUP',\\\n",
    "#            'source_SIGNUP_GOOGLE_AUTH','org_id_adoption_rate','invited']#,\\\n",
    "#            #'days_last-creation']#'days_since_last_session']#,'days_last-creation']\n",
    "\n",
    "X_labels = list(final_df.columns)\n",
    "y_label='adopted'\n",
    "\n",
    "X = final_df.to_numpy()\n",
    "y = users[y_label].to_numpy()\n",
    "\n",
    "from sklearn.model_selection import train_test_split, GridSearchCV\n",
    "from sklearn.ensemble import RandomForestClassifier\n",
    "from sklearn.metrics import plot_roc_curve,plot_precision_recall_curve\n",
    "\n",
    "X_train, X_test, y_train, y_test = train_test_split(X,y,test_size=.2,\\\n",
    "                                                    random_state=rand_seed)\n",
    "\n",
    "params = {'n_estimators':[30,50,80,100], 'max_depth':[3,5,7]}\n",
    "rfgs = GridSearchCV(RandomForestClassifier(),param_grid=params,cv=5,\\\n",
    "                    scoring='roc_auc')\n",
    "\n",
    "rfgs.fit(X_train,y_train)\n",
    "\n",
    "fig,ax = plt.subplots(1,2,figsize=(8,4),tight_layout=True)\n",
    "plot_roc_curve(rfgs.best_estimator_,X_train,y_train,ax=ax[0],name='Train')\n",
    "plot_roc_curve(rfgs.best_estimator_,X_test,y_test,ax=ax[0],name='Test')\n",
    "ax[0].set_title('Receiver operating curve')\n",
    "\n",
    "plot_precision_recall_curve(rfgs.best_estimator_,X_train,y_train,\\\n",
    "                            ax=ax[1],name='Train')\n",
    "plot_precision_recall_curve(rfgs.best_estimator_,X_test,y_test,\\\n",
    "                            ax=ax[1],name='Test')\n",
    "ax[1].set_title('Precision-Recall curve')\n",
    "plt.show()\n",
    "\n"
   ]
  },
  {
   "cell_type": "markdown",
   "metadata": {},
   "source": [
    "That looks great.  A test AUC of 0.92 is a good result that demonstrates the predictive power of the features and curves show it is not overfit to the training data.  Checking feature importance"
   ]
  },
  {
   "cell_type": "code",
   "execution_count": 76,
   "metadata": {},
   "outputs": [
    {
     "data": {
      "text/html": [
       "<div>\n",
       "<style scoped>\n",
       "    .dataframe tbody tr th:only-of-type {\n",
       "        vertical-align: middle;\n",
       "    }\n",
       "\n",
       "    .dataframe tbody tr th {\n",
       "        vertical-align: top;\n",
       "    }\n",
       "\n",
       "    .dataframe thead th {\n",
       "        text-align: right;\n",
       "    }\n",
       "</style>\n",
       "<table border=\"1\" class=\"dataframe\">\n",
       "  <thead>\n",
       "    <tr style=\"text-align: right;\">\n",
       "      <th></th>\n",
       "      <th>feature</th>\n",
       "      <th>import</th>\n",
       "    </tr>\n",
       "  </thead>\n",
       "  <tbody>\n",
       "    <tr>\n",
       "      <th>0</th>\n",
       "      <td>sessions_first_30days</td>\n",
       "      <td>0.946146</td>\n",
       "    </tr>\n",
       "    <tr>\n",
       "      <th>2</th>\n",
       "      <td>creation_month</td>\n",
       "      <td>0.043497</td>\n",
       "    </tr>\n",
       "    <tr>\n",
       "      <th>1</th>\n",
       "      <td>source_PERSONAL_PROJECTS</td>\n",
       "      <td>0.006538</td>\n",
       "    </tr>\n",
       "    <tr>\n",
       "      <th>4</th>\n",
       "      <td>source_SIGNUP_GOOGLE_AUTH</td>\n",
       "      <td>0.001948</td>\n",
       "    </tr>\n",
       "    <tr>\n",
       "      <th>3</th>\n",
       "      <td>source_GUEST_INVITE</td>\n",
       "      <td>0.001872</td>\n",
       "    </tr>\n",
       "  </tbody>\n",
       "</table>\n",
       "</div>"
      ],
      "text/plain": [
       "                     feature    import\n",
       "0      sessions_first_30days  0.946146\n",
       "2             creation_month  0.043497\n",
       "1   source_PERSONAL_PROJECTS  0.006538\n",
       "4  source_SIGNUP_GOOGLE_AUTH  0.001948\n",
       "3        source_GUEST_INVITE  0.001872"
      ]
     },
     "execution_count": 76,
     "metadata": {},
     "output_type": "execute_result"
    }
   ],
   "source": [
    "pd.DataFrame(zip(X_labels,rfgs.best_estimator_.feature_importances_),\\\n",
    "             columns=['feature','import']).sort_values('import',ascending=False)"
   ]
  },
  {
   "cell_type": "code",
   "execution_count": 77,
   "metadata": {},
   "outputs": [
    {
     "data": {
      "image/png": "[encoded data removed]",
      "text/plain": [
       "<Figure size 576x252 with 2 Axes>"
      ]
     },
     "metadata": {
      "needs_background": "light"
     },
     "output_type": "display_data"
    }
   ],
   "source": [
    "import shap\n",
    "\n",
    "shap_values = shap.TreeExplainer(rfgs.best_estimator_).shap_values(X_train)\n",
    "\n",
    "shap.summary_plot(shap_values[1], X_train,\\\n",
    "                  feature_names=X_labels,\\\n",
    "                  class_names=['lost','adopted'])"
   ]
  },
  {
   "cell_type": "markdown",
   "metadata": {},
   "source": [
    "The most important features for prediciting future user adoption are `sessions_first_30days`, the number of the users sessions in the first 30 days since joining, and `creation_month`, the the month they joined Relax.\n",
    "\n",
    "Other features useful for prediction are the sources of the account 'Personal Projects', 'Guest Invite', 'Signup Google'."
   ]
  },
  {
   "cell_type": "code",
   "execution_count": null,
   "metadata": {},
   "outputs": [],
   "source": []
  }
 ],
 "metadata": {
  "kernelspec": {
   "display_name": "Python 3",
   "language": "python",
   "name": "python3"
  },
  "language_info": {
   "codemirror_mode": {
    "name": "ipython",
    "version": 3
   },
   "file_extension": ".py",
   "mimetype": "text/x-python",
   "name": "python",
   "nbconvert_exporter": "python",
   "pygments_lexer": "ipython3",
   "version": "3.8.3"
  }
 },
 "nbformat": 4,
 "nbformat_minor": 4
}
